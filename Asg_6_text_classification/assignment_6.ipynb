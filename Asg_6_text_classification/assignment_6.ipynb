{
 "cells": [
  {
   "cell_type": "code",
   "execution_count": 1,
   "metadata": {},
   "outputs": [],
   "source": [
    "from sklearn.naive_bayes import MultinomialNB\n",
    "from sklearn.metrics import confusion_matrix, classification_report\n",
    "import numpy as np\n",
    "import pandas as pd\n",
    "import matplotlib.pyplot as plt\n",
    "import math as mt\n",
    "import os\n",
    "import time\n",
    "import re\n",
    "from nltk.stem import WordNetLemmatizer\n",
    "from nltk.corpus import stopwords\n",
    "from sklearn.model_selection import train_test_split"
   ]
  },
  {
   "cell_type": "code",
   "execution_count": 2,
   "metadata": {},
   "outputs": [],
   "source": [
    "# stemmer = WordNetLemmatizer()"
   ]
  },
  {
   "cell_type": "code",
   "execution_count": 3,
   "metadata": {},
   "outputs": [],
   "source": [
    "''' \"extract_frequency_wise\" function is used to extract the words along with there\n",
    "    frequency from the single data file\n",
    "    after removing all special characters, spaces, stopwords and every useless\n",
    "    chars\n",
    "    \n",
    "    Parameters\n",
    "    ----------\n",
    "    data: file from which to be extracted\n",
    "    \n",
    "    Returns\n",
    "    -------\n",
    "    vocab_dict: dicitionary of words with frequency\n",
    "'''\n",
    "\n",
    "def extract_frequency_wise(data):\n",
    "    documents = []\n",
    "    \n",
    "    ''' Removing Remove all the special characters, all single character,\n",
    "        starting with single character,\n",
    "        multiple spaces\n",
    "        with only one single space\n",
    "    '''\n",
    "    \n",
    "    for x in range(0, len(data)):  \n",
    "        document = re.sub(r'\\W', ' ', str(data[x]))\n",
    "        document = re.sub(r'\\s+[a-zA-Z]\\s+', ' ', document)\n",
    "        document = re.sub(r'^[a-zA-Z]\\s+', ' ', document) \n",
    "        document = re.sub(r'\\s+', ' ', document, flags=re.I)\n",
    "        document = document.lower()\n",
    "        document = document.split()\n",
    "#         document = [stemmer.lemmatize(word) for word in document]\n",
    "        documents.append(document)\n",
    "        \n",
    "    ''' Removing stopwords and numbers '''\n",
    "    \n",
    "    vocab = []\n",
    "    stop_words = stopwords.words('english')\n",
    "    \n",
    "    for i in range(len(documents)):\n",
    "        for j in range(len(documents[i])):\n",
    "            if not documents[i][j].isdigit() and documents[i][j] not in stop_words:\n",
    "                vocab.append(documents[i][j])\n",
    "    \n",
    "    ''' creating frequency list '''\n",
    "    \n",
    "    vocab_dict = {}\n",
    "    for w in vocab:\n",
    "        if w not in vocab_dict:\n",
    "            vocab_dict[w] = 1\n",
    "        else:\n",
    "            vocab_dict[w] += 1\n",
    "    \n",
    "    return vocab_dict"
   ]
  },
  {
   "cell_type": "code",
   "execution_count": 4,
   "metadata": {
    "scrolled": false
   },
   "outputs": [],
   "source": [
    "''' \"load_20news_group\" function is used to load the '20 news group' data into\n",
    "    python dictionary after removing special characters from each files with help of\n",
    "    \"extract_frequency_wise\" function \n",
    "    it stores the data into dictionary with folder name (or 20 news group classes) as a \"keys\"\n",
    "    and list of dictionary(of vocabulary) of each file from particular folder as \"values\"\n",
    "    \n",
    "    Parameters\n",
    "    ----------\n",
    "    data_per_group: integer, size of data(or files) to be load from each folder\n",
    "    \n",
    "    Results\n",
    "    -------\n",
    "    dictionary: dictionary of folder wise files vocabulary\n",
    "'''\n",
    "\n",
    "def load_20news_group(data_per_group = None):\n",
    "    dictionary = {}\n",
    "    path = os.getcwd() + '\\\\20_newsgroups' # folder path from current working directory\n",
    "    \n",
    "    \n",
    "    ''' Getting Folders Names '''\n",
    "    news_groups_name = [] \n",
    "    for folder_name in os.listdir(path):\n",
    "        news_groups_name.append(folder_name) # appending folders name\n",
    "\n",
    "        \n",
    "    ''' Getting Files Names From Each Folder'''\n",
    "    files_name_dict = {}\n",
    "    for folder_name in news_groups_name:\n",
    "        files_name_dict[folder_name] = os.listdir(path + '\\\\' + folder_name) #appending file names group by folders\n",
    "\n",
    "        \n",
    "    ''' creating frequency dictionary of words '''\n",
    "    for news_group in news_groups_name:\n",
    "        if data_per_group == None:\n",
    "            train_limit = len(files_name_dict[news_group])\n",
    "        else:\n",
    "            train_limit = data_per_group\n",
    "        dictionary[news_group] = []\n",
    "        for file_name in files_name_dict[news_group]:\n",
    "            if train_limit:\n",
    "                f = open(path + '\\\\' + news_group +'\\\\'+ file_name)\n",
    "                file_stream = f.readlines()\n",
    "                vocab = extract_frequency_wise(file_stream) # extracting words\n",
    "                dictionary[news_group].append(vocab)\n",
    "                f.close()\n",
    "            else:\n",
    "                break\n",
    "                \n",
    "            train_limit -= 1\n",
    "            \n",
    "    return dictionary"
   ]
  },
  {
   "cell_type": "code",
   "execution_count": 5,
   "metadata": {},
   "outputs": [],
   "source": [
    "''' \"divide_data_train_test\" function is used to divide to loaded data with help of function\n",
    "    \"load_20news_group\" into train and test data to further making the single vocabulary list\n",
    "    of train data to select the features\n",
    "    \n",
    "    Parameters\n",
    "    ----------\n",
    "    data: dictionary \n",
    "    test_size: integer, size of test data\n",
    "    \n",
    "    Returns\n",
    "    -------\n",
    "    train_data: train_data dictionary\n",
    "    test_data: test_data dictionary\n",
    "'''\n",
    "\n",
    "def divide_data_train_test(data, test_size = 0.25):\n",
    "    train_data = {}\n",
    "    test_data = {}\n",
    "    \n",
    "    for k in data:\n",
    "        test_len = int(len(data[k]) * (1-test_size))\n",
    "        train_data[k] = data[k][:test_len]\n",
    "        test_data[k]  = data[k][test_len:]\n",
    "        \n",
    "    return train_data, test_data"
   ]
  },
  {
   "cell_type": "code",
   "execution_count": 6,
   "metadata": {},
   "outputs": [],
   "source": [
    "''' \"create_vocab_dict_from_train_data\" function is used to make a single flat dictionary \n",
    "    from the train data for selecting features\n",
    "    \n",
    "    Parameters\n",
    "    ----------\n",
    "    train_data: dictionary\n",
    "    \n",
    "    Returns\n",
    "    -------\n",
    "    dictionary\n",
    "'''\n",
    "def create_vocab_dict_from_train_data(train_data):\n",
    "    main_vocab = {}\n",
    "    for news_grp in train_data:\n",
    "        for _dict in train_data[news_grp]:\n",
    "            for k in _dict:\n",
    "                if k not in main_vocab:\n",
    "                    main_vocab[k] = _dict[k]\n",
    "                else:\n",
    "                    main_vocab[k] += _dict[k]\n",
    "    return dict(sorted(main_vocab.items(), key = lambda x : x[1], reverse=True))"
   ]
  },
  {
   "cell_type": "code",
   "execution_count": 7,
   "metadata": {},
   "outputs": [],
   "source": [
    "''' \"create_2d_array\" function is used to making a 2d numpy array from the non-flat dictionary(or nested dict)\n",
    "    \n",
    "    Parameters\n",
    "    ----------\n",
    "    data: dictionary\n",
    "    table_cols: selected features(or words)\n",
    "    \n",
    "    Returns\n",
    "    -------\n",
    "    2d np array\n",
    "'''\n",
    "def create_2d_array(data, table_cols):\n",
    "    _2darray = []\n",
    "    for group_name in data.keys():\n",
    "        for _dict in data[group_name]:\n",
    "            curr_row = [0] * (len(table_cols) + 1)\n",
    "            curr_row[-1] = group_name\n",
    "            for i in range(len(table_cols)):\n",
    "                if table_cols[i] in _dict:\n",
    "                    curr_row[i] = _dict[table_cols[i]]\n",
    "            _2darray.append(curr_row)\n",
    "    return np.array(_2darray)"
   ]
  },
  {
   "cell_type": "markdown",
   "metadata": {},
   "source": [
    "# Loading Data from hard drive"
   ]
  },
  {
   "cell_type": "code",
   "execution_count": 8,
   "metadata": {},
   "outputs": [
    {
     "name": "stdout",
     "output_type": "stream",
     "text": [
      "--- 10.018885612487793 seconds ---\n"
     ]
    }
   ],
   "source": [
    "start_time = time.time()\n",
    "data = load_20news_group(100) # pass one integer args for size of data\n",
    "print(\"--- %s seconds ---\" % (time.time() - start_time))"
   ]
  },
  {
   "cell_type": "markdown",
   "metadata": {},
   "source": [
    "## Getting all 20 classes names"
   ]
  },
  {
   "cell_type": "code",
   "execution_count": 9,
   "metadata": {},
   "outputs": [
    {
     "name": "stdout",
     "output_type": "stream",
     "text": [
      "unique classes:  20\n"
     ]
    },
    {
     "data": {
      "text/plain": [
       "['alt.atheism',\n",
       " 'comp.graphics',\n",
       " 'comp.os.ms-windows.misc',\n",
       " 'comp.sys.ibm.pc.hardware',\n",
       " 'comp.sys.mac.hardware',\n",
       " 'comp.windows.x',\n",
       " 'misc.forsale',\n",
       " 'rec.autos',\n",
       " 'rec.motorcycles',\n",
       " 'rec.sport.baseball',\n",
       " 'rec.sport.hockey',\n",
       " 'sci.crypt',\n",
       " 'sci.electronics',\n",
       " 'sci.med',\n",
       " 'sci.space',\n",
       " 'soc.religion.christian',\n",
       " 'talk.politics.guns',\n",
       " 'talk.politics.mideast',\n",
       " 'talk.politics.misc',\n",
       " 'talk.religion.misc']"
      ]
     },
     "execution_count": 9,
     "metadata": {},
     "output_type": "execute_result"
    }
   ],
   "source": [
    "classes_names = list(data.keys())\n",
    "print('unique classes: ',len(classes_names))\n",
    "classes_names"
   ]
  },
  {
   "cell_type": "markdown",
   "metadata": {},
   "source": [
    "## Dividing Training and Testing Data"
   ]
  },
  {
   "cell_type": "code",
   "execution_count": 10,
   "metadata": {},
   "outputs": [
    {
     "name": "stdout",
     "output_type": "stream",
     "text": [
      "75 25\n"
     ]
    }
   ],
   "source": [
    "train_data, test_data = divide_data_train_test(data)\n",
    "print(len(train_data[classes_names[0]]), len(test_data[classes_names[0]]))"
   ]
  },
  {
   "cell_type": "markdown",
   "metadata": {},
   "source": [
    "## Creating Words Dictionary from training data for Selecting Features"
   ]
  },
  {
   "cell_type": "code",
   "execution_count": 11,
   "metadata": {},
   "outputs": [],
   "source": [
    "main_vocab = create_vocab_dict_from_train_data(train_data)"
   ]
  },
  {
   "cell_type": "code",
   "execution_count": 12,
   "metadata": {
    "scrolled": false
   },
   "outputs": [
    {
     "data": {
      "text/html": [
       "<div>\n",
       "<style scoped>\n",
       "    .dataframe tbody tr th:only-of-type {\n",
       "        vertical-align: middle;\n",
       "    }\n",
       "\n",
       "    .dataframe tbody tr th {\n",
       "        vertical-align: top;\n",
       "    }\n",
       "\n",
       "    .dataframe thead th {\n",
       "        text-align: right;\n",
       "    }\n",
       "</style>\n",
       "<table border=\"1\" class=\"dataframe\">\n",
       "  <thead>\n",
       "    <tr style=\"text-align: right;\">\n",
       "      <th></th>\n",
       "      <th>words</th>\n",
       "      <th>frequency</th>\n",
       "    </tr>\n",
       "  </thead>\n",
       "  <tbody>\n",
       "    <tr>\n",
       "      <th>0</th>\n",
       "      <td>edu</td>\n",
       "      <td>11802</td>\n",
       "    </tr>\n",
       "    <tr>\n",
       "      <th>1</th>\n",
       "      <td>com</td>\n",
       "      <td>4360</td>\n",
       "    </tr>\n",
       "    <tr>\n",
       "      <th>2</th>\n",
       "      <td>cs</td>\n",
       "      <td>3967</td>\n",
       "    </tr>\n",
       "    <tr>\n",
       "      <th>3</th>\n",
       "      <td>cmu</td>\n",
       "      <td>3938</td>\n",
       "    </tr>\n",
       "    <tr>\n",
       "      <th>4</th>\n",
       "      <td>srv</td>\n",
       "      <td>2739</td>\n",
       "    </tr>\n",
       "  </tbody>\n",
       "</table>\n",
       "</div>"
      ],
      "text/plain": [
       "  words  frequency\n",
       "0   edu      11802\n",
       "1   com       4360\n",
       "2    cs       3967\n",
       "3   cmu       3938\n",
       "4   srv       2739"
      ]
     },
     "execution_count": 12,
     "metadata": {},
     "output_type": "execute_result"
    }
   ],
   "source": [
    "df = pd.DataFrame({'words': list(main_vocab.keys()), 'frequency': list(main_vocab.values())})\n",
    "df = df.head(1000)\n",
    "table_cols = list(df.words.values)\n",
    "df.head()"
   ]
  },
  {
   "cell_type": "code",
   "execution_count": 13,
   "metadata": {},
   "outputs": [
    {
     "data": {
      "text/html": [
       "<div>\n",
       "<style scoped>\n",
       "    .dataframe tbody tr th:only-of-type {\n",
       "        vertical-align: middle;\n",
       "    }\n",
       "\n",
       "    .dataframe tbody tr th {\n",
       "        vertical-align: top;\n",
       "    }\n",
       "\n",
       "    .dataframe thead th {\n",
       "        text-align: right;\n",
       "    }\n",
       "</style>\n",
       "<table border=\"1\" class=\"dataframe\">\n",
       "  <thead>\n",
       "    <tr style=\"text-align: right;\">\n",
       "      <th></th>\n",
       "      <th>frequency</th>\n",
       "    </tr>\n",
       "  </thead>\n",
       "  <tbody>\n",
       "    <tr>\n",
       "      <th>count</th>\n",
       "      <td>1000.000000</td>\n",
       "    </tr>\n",
       "    <tr>\n",
       "      <th>mean</th>\n",
       "      <td>231.932000</td>\n",
       "    </tr>\n",
       "    <tr>\n",
       "      <th>std</th>\n",
       "      <td>493.502227</td>\n",
       "    </tr>\n",
       "    <tr>\n",
       "      <th>min</th>\n",
       "      <td>70.000000</td>\n",
       "    </tr>\n",
       "    <tr>\n",
       "      <th>25%</th>\n",
       "      <td>90.000000</td>\n",
       "    </tr>\n",
       "    <tr>\n",
       "      <th>50%</th>\n",
       "      <td>122.000000</td>\n",
       "    </tr>\n",
       "    <tr>\n",
       "      <th>75%</th>\n",
       "      <td>221.000000</td>\n",
       "    </tr>\n",
       "    <tr>\n",
       "      <th>max</th>\n",
       "      <td>11802.000000</td>\n",
       "    </tr>\n",
       "  </tbody>\n",
       "</table>\n",
       "</div>"
      ],
      "text/plain": [
       "          frequency\n",
       "count   1000.000000\n",
       "mean     231.932000\n",
       "std      493.502227\n",
       "min       70.000000\n",
       "25%       90.000000\n",
       "50%      122.000000\n",
       "75%      221.000000\n",
       "max    11802.000000"
      ]
     },
     "execution_count": 13,
     "metadata": {},
     "output_type": "execute_result"
    }
   ],
   "source": [
    "df.describe()"
   ]
  },
  {
   "cell_type": "code",
   "execution_count": 14,
   "metadata": {},
   "outputs": [
    {
     "data": {
      "image/png": "[encoded data removed]",
      "text/plain": [
       "<Figure size 432x288 with 1 Axes>"
      ]
     },
     "metadata": {},
     "output_type": "display_data"
    }
   ],
   "source": [
    "graph = df.head(100)\n",
    "plt.plot(graph['frequency'])\n",
    "plt.show()"
   ]
  },
  {
   "cell_type": "markdown",
   "metadata": {},
   "source": [
    "## Creating 2d array from loaded data and converting into DataFrame"
   ]
  },
  {
   "cell_type": "code",
   "execution_count": 15,
   "metadata": {},
   "outputs": [
    {
     "name": "stdout",
     "output_type": "stream",
     "text": [
      "--- 1.3522400856018066 seconds ---\n"
     ]
    }
   ],
   "source": [
    "start_time = time.time()\n",
    "_2darray = create_2d_array(data, table_cols)\n",
    "print(\"--- %s seconds ---\" % (time.time() - start_time))"
   ]
  },
  {
   "cell_type": "code",
   "execution_count": 16,
   "metadata": {},
   "outputs": [],
   "source": [
    "table_cols.append('news_group_class_name')\n",
    "final_df = pd.DataFrame(_2darray, columns=table_cols)\n",
    "table_cols.__delitem__(len(table_cols)-1)"
   ]
  },
  {
   "cell_type": "code",
   "execution_count": 17,
   "metadata": {},
   "outputs": [
    {
     "data": {
      "text/html": [
       "<div>\n",
       "<style scoped>\n",
       "    .dataframe tbody tr th:only-of-type {\n",
       "        vertical-align: middle;\n",
       "    }\n",
       "\n",
       "    .dataframe tbody tr th {\n",
       "        vertical-align: top;\n",
       "    }\n",
       "\n",
       "    .dataframe thead th {\n",
       "        text-align: right;\n",
       "    }\n",
       "</style>\n",
       "<table border=\"1\" class=\"dataframe\">\n",
       "  <thead>\n",
       "    <tr style=\"text-align: right;\">\n",
       "      <th></th>\n",
       "      <th>edu</th>\n",
       "      <th>com</th>\n",
       "      <th>cs</th>\n",
       "      <th>cmu</th>\n",
       "      <th>srv</th>\n",
       "      <th>news</th>\n",
       "      <th>cantaloupe</th>\n",
       "      <th>subject</th>\n",
       "      <th>apr</th>\n",
       "      <th>message</th>\n",
       "      <th>...</th>\n",
       "      <th>documents</th>\n",
       "      <th>uga</th>\n",
       "      <th>chicago</th>\n",
       "      <th>probe</th>\n",
       "      <th>ones</th>\n",
       "      <th>friend</th>\n",
       "      <th>outside</th>\n",
       "      <th>save</th>\n",
       "      <th>taking</th>\n",
       "      <th>news_group_class_name</th>\n",
       "    </tr>\n",
       "  </thead>\n",
       "  <tbody>\n",
       "    <tr>\n",
       "      <th>0</th>\n",
       "      <td>10</td>\n",
       "      <td>1</td>\n",
       "      <td>3</td>\n",
       "      <td>5</td>\n",
       "      <td>3</td>\n",
       "      <td>4</td>\n",
       "      <td>2</td>\n",
       "      <td>1</td>\n",
       "      <td>1</td>\n",
       "      <td>1</td>\n",
       "      <td>...</td>\n",
       "      <td>0</td>\n",
       "      <td>0</td>\n",
       "      <td>0</td>\n",
       "      <td>0</td>\n",
       "      <td>1</td>\n",
       "      <td>1</td>\n",
       "      <td>0</td>\n",
       "      <td>0</td>\n",
       "      <td>0</td>\n",
       "      <td>alt.atheism</td>\n",
       "    </tr>\n",
       "    <tr>\n",
       "      <th>1</th>\n",
       "      <td>5</td>\n",
       "      <td>1</td>\n",
       "      <td>3</td>\n",
       "      <td>4</td>\n",
       "      <td>3</td>\n",
       "      <td>3</td>\n",
       "      <td>2</td>\n",
       "      <td>2</td>\n",
       "      <td>1</td>\n",
       "      <td>2</td>\n",
       "      <td>...</td>\n",
       "      <td>0</td>\n",
       "      <td>0</td>\n",
       "      <td>0</td>\n",
       "      <td>0</td>\n",
       "      <td>1</td>\n",
       "      <td>1</td>\n",
       "      <td>2</td>\n",
       "      <td>1</td>\n",
       "      <td>1</td>\n",
       "      <td>alt.atheism</td>\n",
       "    </tr>\n",
       "    <tr>\n",
       "      <th>2</th>\n",
       "      <td>7</td>\n",
       "      <td>3</td>\n",
       "      <td>4</td>\n",
       "      <td>3</td>\n",
       "      <td>2</td>\n",
       "      <td>2</td>\n",
       "      <td>1</td>\n",
       "      <td>1</td>\n",
       "      <td>1</td>\n",
       "      <td>1</td>\n",
       "      <td>...</td>\n",
       "      <td>0</td>\n",
       "      <td>0</td>\n",
       "      <td>0</td>\n",
       "      <td>0</td>\n",
       "      <td>0</td>\n",
       "      <td>0</td>\n",
       "      <td>0</td>\n",
       "      <td>0</td>\n",
       "      <td>0</td>\n",
       "      <td>alt.atheism</td>\n",
       "    </tr>\n",
       "    <tr>\n",
       "      <th>3</th>\n",
       "      <td>6</td>\n",
       "      <td>1</td>\n",
       "      <td>3</td>\n",
       "      <td>4</td>\n",
       "      <td>3</td>\n",
       "      <td>1</td>\n",
       "      <td>2</td>\n",
       "      <td>1</td>\n",
       "      <td>1</td>\n",
       "      <td>1</td>\n",
       "      <td>...</td>\n",
       "      <td>0</td>\n",
       "      <td>0</td>\n",
       "      <td>0</td>\n",
       "      <td>0</td>\n",
       "      <td>0</td>\n",
       "      <td>0</td>\n",
       "      <td>0</td>\n",
       "      <td>0</td>\n",
       "      <td>0</td>\n",
       "      <td>alt.atheism</td>\n",
       "    </tr>\n",
       "    <tr>\n",
       "      <th>4</th>\n",
       "      <td>4</td>\n",
       "      <td>10</td>\n",
       "      <td>3</td>\n",
       "      <td>4</td>\n",
       "      <td>3</td>\n",
       "      <td>0</td>\n",
       "      <td>2</td>\n",
       "      <td>1</td>\n",
       "      <td>1</td>\n",
       "      <td>1</td>\n",
       "      <td>...</td>\n",
       "      <td>0</td>\n",
       "      <td>0</td>\n",
       "      <td>0</td>\n",
       "      <td>0</td>\n",
       "      <td>0</td>\n",
       "      <td>0</td>\n",
       "      <td>0</td>\n",
       "      <td>0</td>\n",
       "      <td>0</td>\n",
       "      <td>alt.atheism</td>\n",
       "    </tr>\n",
       "  </tbody>\n",
       "</table>\n",
       "<p>5 rows × 1001 columns</p>\n",
       "</div>"
      ],
      "text/plain": [
       "  edu com cs cmu srv news cantaloupe subject apr message  \\\n",
       "0  10   1  3   5   3    4          2       1   1       1   \n",
       "1   5   1  3   4   3    3          2       2   1       2   \n",
       "2   7   3  4   3   2    2          1       1   1       1   \n",
       "3   6   1  3   4   3    1          2       1   1       1   \n",
       "4   4  10  3   4   3    0          2       1   1       1   \n",
       "\n",
       "           ...          documents uga chicago probe ones friend outside save  \\\n",
       "0          ...                  0   0       0     0    1      1       0    0   \n",
       "1          ...                  0   0       0     0    1      1       2    1   \n",
       "2          ...                  0   0       0     0    0      0       0    0   \n",
       "3          ...                  0   0       0     0    0      0       0    0   \n",
       "4          ...                  0   0       0     0    0      0       0    0   \n",
       "\n",
       "  taking news_group_class_name  \n",
       "0      0           alt.atheism  \n",
       "1      1           alt.atheism  \n",
       "2      0           alt.atheism  \n",
       "3      0           alt.atheism  \n",
       "4      0           alt.atheism  \n",
       "\n",
       "[5 rows x 1001 columns]"
      ]
     },
     "execution_count": 17,
     "metadata": {},
     "output_type": "execute_result"
    }
   ],
   "source": [
    "final_df.head()"
   ]
  },
  {
   "cell_type": "markdown",
   "metadata": {},
   "source": [
    "## Converting String value of classes into integer"
   ]
  },
  {
   "cell_type": "code",
   "execution_count": 18,
   "metadata": {},
   "outputs": [],
   "source": [
    "class_conv ={}\n",
    "for i in range(len(classes_names)):\n",
    "    class_conv[classes_names[i]] = i"
   ]
  },
  {
   "cell_type": "code",
   "execution_count": 19,
   "metadata": {},
   "outputs": [],
   "source": [
    "for i in range(len(final_df)):\n",
    "    final_df['news_group_class_name'][i] = class_conv[final_df['news_group_class_name'][i]]"
   ]
  },
  {
   "cell_type": "code",
   "execution_count": 20,
   "metadata": {},
   "outputs": [
    {
     "data": {
      "text/html": [
       "<div>\n",
       "<style scoped>\n",
       "    .dataframe tbody tr th:only-of-type {\n",
       "        vertical-align: middle;\n",
       "    }\n",
       "\n",
       "    .dataframe tbody tr th {\n",
       "        vertical-align: top;\n",
       "    }\n",
       "\n",
       "    .dataframe thead th {\n",
       "        text-align: right;\n",
       "    }\n",
       "</style>\n",
       "<table border=\"1\" class=\"dataframe\">\n",
       "  <thead>\n",
       "    <tr style=\"text-align: right;\">\n",
       "      <th></th>\n",
       "      <th>edu</th>\n",
       "      <th>com</th>\n",
       "      <th>cs</th>\n",
       "      <th>cmu</th>\n",
       "      <th>srv</th>\n",
       "      <th>news</th>\n",
       "      <th>cantaloupe</th>\n",
       "      <th>subject</th>\n",
       "      <th>apr</th>\n",
       "      <th>message</th>\n",
       "      <th>...</th>\n",
       "      <th>documents</th>\n",
       "      <th>uga</th>\n",
       "      <th>chicago</th>\n",
       "      <th>probe</th>\n",
       "      <th>ones</th>\n",
       "      <th>friend</th>\n",
       "      <th>outside</th>\n",
       "      <th>save</th>\n",
       "      <th>taking</th>\n",
       "      <th>news_group_class_name</th>\n",
       "    </tr>\n",
       "  </thead>\n",
       "  <tbody>\n",
       "    <tr>\n",
       "      <th>0</th>\n",
       "      <td>10</td>\n",
       "      <td>1</td>\n",
       "      <td>3</td>\n",
       "      <td>5</td>\n",
       "      <td>3</td>\n",
       "      <td>4</td>\n",
       "      <td>2</td>\n",
       "      <td>1</td>\n",
       "      <td>1</td>\n",
       "      <td>1</td>\n",
       "      <td>...</td>\n",
       "      <td>0</td>\n",
       "      <td>0</td>\n",
       "      <td>0</td>\n",
       "      <td>0</td>\n",
       "      <td>1</td>\n",
       "      <td>1</td>\n",
       "      <td>0</td>\n",
       "      <td>0</td>\n",
       "      <td>0</td>\n",
       "      <td>0</td>\n",
       "    </tr>\n",
       "    <tr>\n",
       "      <th>1</th>\n",
       "      <td>5</td>\n",
       "      <td>1</td>\n",
       "      <td>3</td>\n",
       "      <td>4</td>\n",
       "      <td>3</td>\n",
       "      <td>3</td>\n",
       "      <td>2</td>\n",
       "      <td>2</td>\n",
       "      <td>1</td>\n",
       "      <td>2</td>\n",
       "      <td>...</td>\n",
       "      <td>0</td>\n",
       "      <td>0</td>\n",
       "      <td>0</td>\n",
       "      <td>0</td>\n",
       "      <td>1</td>\n",
       "      <td>1</td>\n",
       "      <td>2</td>\n",
       "      <td>1</td>\n",
       "      <td>1</td>\n",
       "      <td>0</td>\n",
       "    </tr>\n",
       "    <tr>\n",
       "      <th>2</th>\n",
       "      <td>7</td>\n",
       "      <td>3</td>\n",
       "      <td>4</td>\n",
       "      <td>3</td>\n",
       "      <td>2</td>\n",
       "      <td>2</td>\n",
       "      <td>1</td>\n",
       "      <td>1</td>\n",
       "      <td>1</td>\n",
       "      <td>1</td>\n",
       "      <td>...</td>\n",
       "      <td>0</td>\n",
       "      <td>0</td>\n",
       "      <td>0</td>\n",
       "      <td>0</td>\n",
       "      <td>0</td>\n",
       "      <td>0</td>\n",
       "      <td>0</td>\n",
       "      <td>0</td>\n",
       "      <td>0</td>\n",
       "      <td>0</td>\n",
       "    </tr>\n",
       "    <tr>\n",
       "      <th>3</th>\n",
       "      <td>6</td>\n",
       "      <td>1</td>\n",
       "      <td>3</td>\n",
       "      <td>4</td>\n",
       "      <td>3</td>\n",
       "      <td>1</td>\n",
       "      <td>2</td>\n",
       "      <td>1</td>\n",
       "      <td>1</td>\n",
       "      <td>1</td>\n",
       "      <td>...</td>\n",
       "      <td>0</td>\n",
       "      <td>0</td>\n",
       "      <td>0</td>\n",
       "      <td>0</td>\n",
       "      <td>0</td>\n",
       "      <td>0</td>\n",
       "      <td>0</td>\n",
       "      <td>0</td>\n",
       "      <td>0</td>\n",
       "      <td>0</td>\n",
       "    </tr>\n",
       "    <tr>\n",
       "      <th>4</th>\n",
       "      <td>4</td>\n",
       "      <td>10</td>\n",
       "      <td>3</td>\n",
       "      <td>4</td>\n",
       "      <td>3</td>\n",
       "      <td>0</td>\n",
       "      <td>2</td>\n",
       "      <td>1</td>\n",
       "      <td>1</td>\n",
       "      <td>1</td>\n",
       "      <td>...</td>\n",
       "      <td>0</td>\n",
       "      <td>0</td>\n",
       "      <td>0</td>\n",
       "      <td>0</td>\n",
       "      <td>0</td>\n",
       "      <td>0</td>\n",
       "      <td>0</td>\n",
       "      <td>0</td>\n",
       "      <td>0</td>\n",
       "      <td>0</td>\n",
       "    </tr>\n",
       "  </tbody>\n",
       "</table>\n",
       "<p>5 rows × 1001 columns</p>\n",
       "</div>"
      ],
      "text/plain": [
       "  edu com cs cmu srv news cantaloupe subject apr message  \\\n",
       "0  10   1  3   5   3    4          2       1   1       1   \n",
       "1   5   1  3   4   3    3          2       2   1       2   \n",
       "2   7   3  4   3   2    2          1       1   1       1   \n",
       "3   6   1  3   4   3    1          2       1   1       1   \n",
       "4   4  10  3   4   3    0          2       1   1       1   \n",
       "\n",
       "           ...          documents uga chicago probe ones friend outside save  \\\n",
       "0          ...                  0   0       0     0    1      1       0    0   \n",
       "1          ...                  0   0       0     0    1      1       2    1   \n",
       "2          ...                  0   0       0     0    0      0       0    0   \n",
       "3          ...                  0   0       0     0    0      0       0    0   \n",
       "4          ...                  0   0       0     0    0      0       0    0   \n",
       "\n",
       "  taking news_group_class_name  \n",
       "0      0                     0  \n",
       "1      1                     0  \n",
       "2      0                     0  \n",
       "3      0                     0  \n",
       "4      0                     0  \n",
       "\n",
       "[5 rows x 1001 columns]"
      ]
     },
     "execution_count": 20,
     "metadata": {},
     "output_type": "execute_result"
    }
   ],
   "source": [
    "final_df.head()"
   ]
  },
  {
   "cell_type": "code",
   "execution_count": 21,
   "metadata": {},
   "outputs": [],
   "source": [
    "X = np.array(final_df.iloc[:,:-1].values, dtype='int')\n",
    "Y = final_df['news_group_class_name'].values\n",
    "Y=Y.astype('int')"
   ]
  },
  {
   "cell_type": "markdown",
   "metadata": {},
   "source": [
    "## Splitting data into training and testing part using sklearn in built function"
   ]
  },
  {
   "cell_type": "code",
   "execution_count": 22,
   "metadata": {},
   "outputs": [
    {
     "name": "stdout",
     "output_type": "stream",
     "text": [
      "(1500, 1000) (500, 1000)\n"
     ]
    }
   ],
   "source": [
    "x_train, x_test, y_train, y_test = train_test_split(X, Y, random_state=1) \n",
    "print(x_train.shape, x_test.shape)"
   ]
  },
  {
   "cell_type": "markdown",
   "metadata": {},
   "source": [
    "## Implementing `Multinomial Naive Bayes` For Text Classification"
   ]
  },
  {
   "cell_type": "code",
   "execution_count": 23,
   "metadata": {},
   "outputs": [],
   "source": [
    "class MultinomialNaiveBayes:\n",
    "    \n",
    "    __map = {}\n",
    "    __alpha = None\n",
    "    def fit(self, x_train, y_train, alpha = 1.0):\n",
    "        self.__alpha = alpha\n",
    "        for class_type in set(y_train):\n",
    "            self.__map[class_type] = {}\n",
    "            xs = x_train[y_train == class_type]\n",
    "            self.__map[class_type]['total_count'] = xs.sum()\n",
    "            feature_counts = xs.sum(axis=0)\n",
    "            for i in range(len(feature_counts)):\n",
    "                self.__map[class_type][i] = feature_counts[i]\n",
    "                \n",
    "                \n",
    "    def max_probability(self, x_row, classes, feature_len):\n",
    "        best_class = None\n",
    "        max_prob = -2**31\n",
    "        for each_class in  classes:\n",
    "            # uncomment for without log probability and comment another one\n",
    "#             temp_prob = 1\n",
    "            \n",
    "            temp_prob = 0\n",
    "            for i in range(feature_len):\n",
    "                if x_row[i] > 0:\n",
    "                    # uncomment for without log probability and comment another one\n",
    "#                     temp_prob *= (self.__map[each_class][i] + self.__alpha) / (self.__map[each_class]['total_count'] + (self.__alpha * feature_len))\n",
    "                    \n",
    "                    temp_prob -= mt.log(self.__map[each_class][i] + self.__alpha) - mt.log(self.__map[each_class]['total_count'] + (self.__alpha * feature_len))\n",
    "            if temp_prob > max_prob:\n",
    "                max_prob = temp_prob\n",
    "                best_class = each_class\n",
    "        if best_class is not None:\n",
    "            return best_class\n",
    "        return -1\n",
    "            \n",
    "    \n",
    "    def predict(self, x_test):\n",
    "        y_pred = []\n",
    "        classes = self.__map.keys()\n",
    "        feature_len = len(x_test[0])\n",
    "        for x_row in x_test:\n",
    "            y_pred.append(self.max_probability(x_row, classes, feature_len))\n",
    "        return np.array(y_pred)\n"
   ]
  },
  {
   "cell_type": "markdown",
   "metadata": {},
   "source": [
    "## Classification Using Self Implemented MultinomialNaiveBayes"
   ]
  },
  {
   "cell_type": "code",
   "execution_count": 24,
   "metadata": {},
   "outputs": [],
   "source": [
    "mnb = MultinomialNaiveBayes()\n",
    "d = mnb.fit(x_train, y_train, alpha=2.0)"
   ]
  },
  {
   "cell_type": "code",
   "execution_count": 25,
   "metadata": {},
   "outputs": [
    {
     "name": "stdout",
     "output_type": "stream",
     "text": [
      "--- 42.48677110671997 seconds ---\n"
     ]
    },
    {
     "data": {
      "text/plain": [
       "array([ 6, 12,  2, ..., 19,  2, 10])"
      ]
     },
     "execution_count": 25,
     "metadata": {},
     "output_type": "execute_result"
    }
   ],
   "source": [
    "start_time = time.time()\n",
    "y_train_pred_me = mnb.predict(x_train)\n",
    "print(\"--- %s seconds ---\" % (time.time() - start_time))\n",
    "\n",
    "y_train_pred_me"
   ]
  },
  {
   "cell_type": "code",
   "execution_count": 26,
   "metadata": {},
   "outputs": [
    {
     "name": "stdout",
     "output_type": "stream",
     "text": [
      "--- 14.037948608398438 seconds ---\n"
     ]
    },
    {
     "data": {
      "text/plain": [
       "array([ 6, 16, 12, 13, 12, 19,  6,  4, 11,  8,  0, 14,  0,  0,  4, 18,  6,\n",
       "        6,  8,  0,  2,  0,  0,  8,  6,  4, 19,  4,  1,  2, 19, 12, 16,  7,\n",
       "        1,  7,  5,  0,  8, 17,  1,  2,  0, 10, 10,  7,  6, 17, 19, 18, 17,\n",
       "       14,  1,  1,  6,  7,  0,  8,  0,  0,  4,  1,  0, 12,  0,  8, 12,  0,\n",
       "        8,  0, 18, 16, 18,  0, 14, 10, 13,  0, 14, 12,  4,  6,  1,  1, 10,\n",
       "        4,  9,  0,  1,  2, 12,  9,  2, 19,  0,  1, 13, 14,  8,  0,  0,  1,\n",
       "        9,  0,  6, 19, 18, 13,  7, 11,  1,  3, 14, 19,  4,  8,  7, 10, 15,\n",
       "        9,  1, 12, 16, 12,  8, 13, 12, 12, 19,  9,  7,  7,  7,  6,  6, 10,\n",
       "       19,  3,  0,  1,  8,  4, 16, 13,  1,  1,  0, 19,  0, 12,  1,  3, 16,\n",
       "       10,  1, 15, 12, 17,  6, 14, 13, 15, 11,  6,  1, 15,  1,  6, 12,  7,\n",
       "        6, 12,  1, 15,  2,  1,  0,  8,  1, 12,  9, 16,  6, 19, 10,  0, 12,\n",
       "        0,  1,  6,  3,  0,  3, 15,  2,  0,  1,  3,  9,  9,  4, 11, 15,  0,\n",
       "       19,  8, 12, 17, 12,  8, 16, 18,  2,  6,  8,  4,  9,  4, 17,  9,  7,\n",
       "       15,  8,  1,  0,  0,  7, 10,  2, 15, 13, 12, 17,  9,  2,  8,  7, 14,\n",
       "       12, 15,  0,  6,  1, 18,  0,  2, 10,  9,  0, 16,  3,  3, 12, 17, 15,\n",
       "       11, 10, 17,  7,  2, 13, 16,  0, 16, 16, 12,  6, 13, 11, 12,  3, 11,\n",
       "        8, 12, 10,  8,  0, 16,  2,  0,  1, 15,  0, 17,  0, 11, 18,  3,  0,\n",
       "        8, 13,  0,  0,  9, 18,  1,  7,  1,  4,  6,  4, 16, 18, 17,  9, 14,\n",
       "       15,  9, 17, 12,  8,  1,  2, 16, 13,  0,  1,  9,  0,  9, 15,  0,  2,\n",
       "       19, 19, 19,  4, 16, 13,  8,  0, 18,  7,  4,  8,  1,  9,  3,  1,  2,\n",
       "        3,  4, 11, 19,  0,  2,  7,  0, 13, 13,  4,  4, 13,  6,  0,  2,  5,\n",
       "        9,  7, 19,  2,  6, 11, 15, 18,  2,  1, 16,  7,  3, 10, 16,  4,  1,\n",
       "       19,  2, 16, 12, 18,  4,  1,  1,  0, 17, 19, 10,  0,  0, 18, 19,  8,\n",
       "        7,  6,  0, 14,  3,  7,  4, 18,  0,  0,  8,  7,  3,  1, 16,  1, 10,\n",
       "        6,  4,  0, 19,  2,  9,  0,  4, 15, 16,  0, 17, 17,  6, 16,  9,  2,\n",
       "        4,  6,  0,  6,  9,  3, 19,  6,  7,  4,  9,  0, 19,  0,  3, 10, 12,\n",
       "       19,  0,  0, 18,  8, 10,  0,  4,  7, 13,  1,  6, 10,  0,  2,  6,  8,\n",
       "       17,  0, 12, 16, 10,  4,  9, 13, 19,  0,  2,  9,  8, 13,  3, 13, 12,\n",
       "        0,  1, 15,  7,  4,  1,  9,  9, 12,  2,  4,  4,  6,  9,  8,  9,  0,\n",
       "       10,  0,  1, 14,  6,  2,  1])"
      ]
     },
     "execution_count": 26,
     "metadata": {},
     "output_type": "execute_result"
    }
   ],
   "source": [
    "start_time = time.time()\n",
    "y_test_pred_me = mnb.predict(x_test)\n",
    "print(\"--- %s seconds ---\" % (time.time() - start_time))\n",
    "\n",
    "y_test_pred_me"
   ]
  },
  {
   "cell_type": "code",
   "execution_count": 27,
   "metadata": {},
   "outputs": [
    {
     "name": "stdout",
     "output_type": "stream",
     "text": [
      "             precision    recall  f1-score   support\n",
      "\n",
      "          0       0.34      0.94      0.50        77\n",
      "          1       0.54      0.93      0.69        75\n",
      "          2       0.96      0.95      0.95        73\n",
      "          3       0.92      0.79      0.85        72\n",
      "          4       0.80      0.96      0.88        80\n",
      "          5       1.00      0.06      0.11        72\n",
      "          6       0.84      0.99      0.91        73\n",
      "          7       0.99      0.91      0.95        78\n",
      "          8       0.97      0.96      0.97        74\n",
      "          9       0.97      0.92      0.94        71\n",
      "         10       0.99      0.96      0.97        73\n",
      "         11       1.00      0.46      0.63        79\n",
      "         12       0.65      0.93      0.76        70\n",
      "         13       0.92      0.90      0.91        81\n",
      "         14       1.00      0.53      0.69        76\n",
      "         15       1.00      0.82      0.90        80\n",
      "         16       0.98      0.67      0.80        64\n",
      "         17       0.90      0.70      0.79        80\n",
      "         18       0.89      0.72      0.79        78\n",
      "         19       0.84      0.77      0.80        74\n",
      "\n",
      "avg / total       0.87      0.79      0.79      1500\n",
      "\n"
     ]
    }
   ],
   "source": [
    "print((classification_report(y_train, y_train_pred_me)))"
   ]
  },
  {
   "cell_type": "code",
   "execution_count": 28,
   "metadata": {},
   "outputs": [
    {
     "name": "stdout",
     "output_type": "stream",
     "text": [
      "             precision    recall  f1-score   support\n",
      "\n",
      "          0       0.31      0.96      0.46        23\n",
      "          1       0.51      0.92      0.66        25\n",
      "          2       1.00      1.00      1.00        27\n",
      "          3       0.83      0.54      0.65        28\n",
      "          4       0.52      0.80      0.63        20\n",
      "          5       1.00      0.07      0.13        28\n",
      "          6       0.79      0.96      0.87        27\n",
      "          7       0.80      0.91      0.85        22\n",
      "          8       0.79      0.88      0.84        26\n",
      "          9       0.97      0.97      0.97        29\n",
      "         10       1.00      0.74      0.85        27\n",
      "         11       1.00      0.48      0.65        21\n",
      "         12       0.74      0.77      0.75        30\n",
      "         13       0.80      0.84      0.82        19\n",
      "         14       1.00      0.46      0.63        24\n",
      "         15       1.00      0.85      0.92        20\n",
      "         16       1.00      0.64      0.78        36\n",
      "         17       0.94      0.75      0.83        20\n",
      "         18       0.81      0.59      0.68        22\n",
      "         19       0.76      0.73      0.75        26\n",
      "\n",
      "avg / total       0.84      0.74      0.74       500\n",
      "\n"
     ]
    }
   ],
   "source": [
    "print(classification_report(y_test, y_test_pred_me))"
   ]
  },
  {
   "cell_type": "markdown",
   "metadata": {},
   "source": [
    "## Classification Using Inbuilt Sklearn MultinomialNB"
   ]
  },
  {
   "cell_type": "code",
   "execution_count": 29,
   "metadata": {},
   "outputs": [
    {
     "data": {
      "text/plain": [
       "MultinomialNB(alpha=1.0, class_prior=None, fit_prior=True)"
      ]
     },
     "execution_count": 29,
     "metadata": {},
     "output_type": "execute_result"
    }
   ],
   "source": [
    "clf = MultinomialNB()\n",
    "clf.fit(x_train, y_train)"
   ]
  },
  {
   "cell_type": "code",
   "execution_count": 30,
   "metadata": {},
   "outputs": [],
   "source": [
    "from sklearn.naive_bayes import BernoulliNB"
   ]
  },
  {
   "cell_type": "code",
   "execution_count": 31,
   "metadata": {},
   "outputs": [
    {
     "data": {
      "text/plain": [
       "BernoulliNB(alpha=1.0, binarize=0.0, class_prior=None, fit_prior=True)"
      ]
     },
     "execution_count": 31,
     "metadata": {},
     "output_type": "execute_result"
    }
   ],
   "source": [
    "clf = BernoulliNB()\n",
    "clf.fit(x_train, y_train)"
   ]
  },
  {
   "cell_type": "code",
   "execution_count": 32,
   "metadata": {},
   "outputs": [],
   "source": [
    "y_train_pred_naive = clf.predict(x_train)"
   ]
  },
  {
   "cell_type": "code",
   "execution_count": 33,
   "metadata": {},
   "outputs": [
    {
     "data": {
      "text/plain": [
       "array([ 6, 12,  5, ..., 19,  2, 10])"
      ]
     },
     "execution_count": 33,
     "metadata": {},
     "output_type": "execute_result"
    }
   ],
   "source": [
    "y_train_pred_naive"
   ]
  },
  {
   "cell_type": "code",
   "execution_count": 34,
   "metadata": {},
   "outputs": [],
   "source": [
    "y_test_pred_naive = clf.predict(x_test)"
   ]
  },
  {
   "cell_type": "code",
   "execution_count": 35,
   "metadata": {},
   "outputs": [
    {
     "data": {
      "text/plain": [
       "array([ 6, 18, 12, 13, 12, 16,  6,  4, 11,  8, 14, 14, 16, 11,  4, 18,  6,\n",
       "        6,  8, 14,  2, 18, 19,  8,  6,  4, 19,  3,  5,  2, 19,  8, 16,  7,\n",
       "        1,  7,  5,  0,  8, 17,  1,  2, 11, 10, 10,  7,  6, 17, 19, 18, 17,\n",
       "       14,  1,  1,  6,  7, 12,  8, 16, 10,  4,  1, 11, 12, 14,  8, 12,  5,\n",
       "        7, 14, 18, 16, 18,  6, 14, 10, 13, 11, 14,  7,  3,  6,  1,  1, 10,\n",
       "        6,  9,  0,  1,  2,  3,  9,  2, 19, 16,  1, 13, 14,  8,  0, 16,  1,\n",
       "        9,  0,  6, 19, 18, 13,  7, 11,  1,  3, 14, 19,  4,  8,  7, 10, 15,\n",
       "       10, 10, 12, 16, 12,  8, 13, 12, 12, 19,  9,  7,  7,  7,  6,  6, 10,\n",
       "       19,  3, 17,  1,  8,  4, 18, 13,  1,  1, 11,  0, 10, 12,  1,  3, 16,\n",
       "       10,  1, 15, 12, 17,  6,  6, 11, 15, 11,  6,  1, 15,  1,  6, 12,  7,\n",
       "        6, 12,  1, 15,  2,  1,  9,  8,  1, 12,  9, 16,  6, 13, 10, 16, 12,\n",
       "       14,  1,  6,  3, 15,  3, 15,  2,  0,  1,  3,  9,  9,  4, 11, 15, 12,\n",
       "       19,  8, 12, 17, 12,  8, 16, 18,  2,  6,  8,  4,  9,  4, 17,  9, 13,\n",
       "       15, 13,  1, 17,  0,  7, 10,  2, 15, 13, 12, 17,  9,  2, 10,  7, 13,\n",
       "        6, 15, 15,  6,  1, 18,  0,  2, 10,  9,  0, 16,  3,  3, 12, 17, 15,\n",
       "       11, 10, 17,  7,  2, 13, 16,  0, 16, 16,  6,  6, 13, 11, 11,  3, 11,\n",
       "        8, 12, 10,  8,  0, 18,  2, 10,  1, 15,  5, 18, 14, 11, 18,  3, 11,\n",
       "       10, 13,  0, 15,  9, 17,  1,  7,  5, 13,  6,  4, 16, 18, 17,  9, 14,\n",
       "       15,  9, 17, 12, 18,  1,  2, 16, 13,  0,  1,  9,  0,  9, 15,  0,  2,\n",
       "       16, 19, 19,  4, 16,  1,  8,  0, 18, 13,  6, 14,  1,  9,  3,  1,  2,\n",
       "        3,  4,  1, 19, 16,  2,  7,  0, 13, 13,  4,  4, 13,  6,  0,  2,  5,\n",
       "        9,  7,  6,  2,  6, 11, 15, 18,  2, 12,  6,  7,  3, 10, 16,  3,  1,\n",
       "        0,  2, 16, 12, 18,  4,  1,  1,  5, 17, 19, 10, 19,  5, 18, 19,  8,\n",
       "        7,  6, 19, 14,  4,  7,  3, 18, 18, 19,  8,  7,  3,  1, 16,  1, 10,\n",
       "        6,  3, 12, 19,  2,  9,  0,  4, 15, 16, 11, 17, 17,  6, 16,  9,  2,\n",
       "        4,  6, 14,  6,  9,  3,  6,  6,  7,  4,  9, 17, 19, 11,  3, 10, 12,\n",
       "       19,  0, 16, 18,  8, 10,  0,  4,  7, 13,  1,  6, 10, 14,  2,  6,  8,\n",
       "       17,  5, 12, 16, 10,  4,  9, 13, 19, 16,  2,  9,  8, 13,  3, 13, 12,\n",
       "       16,  1, 15,  7,  4,  1,  9,  9,  1,  2,  4,  4,  6,  9,  8,  9,  0,\n",
       "       10,  0,  5, 12,  6,  2,  1])"
      ]
     },
     "execution_count": 35,
     "metadata": {},
     "output_type": "execute_result"
    }
   ],
   "source": [
    "y_test_pred_naive"
   ]
  },
  {
   "cell_type": "code",
   "execution_count": 36,
   "metadata": {},
   "outputs": [
    {
     "name": "stdout",
     "output_type": "stream",
     "text": [
      "             precision    recall  f1-score   support\n",
      "\n",
      "          0       0.97      0.94      0.95        77\n",
      "          1       0.61      0.93      0.74        75\n",
      "          2       0.99      0.97      0.98        73\n",
      "          3       0.95      0.96      0.95        72\n",
      "          4       0.95      0.97      0.96        80\n",
      "          5       0.86      0.43      0.57        72\n",
      "          6       0.79      0.99      0.88        73\n",
      "          7       0.99      0.96      0.97        78\n",
      "          8       1.00      0.99      0.99        74\n",
      "          9       1.00      1.00      1.00        71\n",
      "         10       1.00      0.99      0.99        73\n",
      "         11       1.00      0.81      0.90        79\n",
      "         12       0.78      0.94      0.85        70\n",
      "         13       0.91      0.96      0.93        81\n",
      "         14       1.00      0.75      0.86        76\n",
      "         15       1.00      0.99      0.99        80\n",
      "         16       0.88      0.89      0.88        64\n",
      "         17       0.92      0.91      0.92        80\n",
      "         18       0.86      0.82      0.84        78\n",
      "         19       0.88      0.91      0.89        74\n",
      "\n",
      "avg / total       0.92      0.91      0.90      1500\n",
      "\n"
     ]
    }
   ],
   "source": [
    "print((classification_report(y_train, y_train_pred_naive)))"
   ]
  },
  {
   "cell_type": "code",
   "execution_count": 37,
   "metadata": {
    "scrolled": false
   },
   "outputs": [
    {
     "name": "stdout",
     "output_type": "stream",
     "text": [
      "             precision    recall  f1-score   support\n",
      "\n",
      "          0       0.88      0.91      0.89        23\n",
      "          1       0.56      0.96      0.71        25\n",
      "          2       1.00      1.00      1.00        27\n",
      "          3       0.91      0.75      0.82        28\n",
      "          4       0.71      0.85      0.77        20\n",
      "          5       0.90      0.32      0.47        28\n",
      "          6       0.62      0.96      0.75        27\n",
      "          7       0.88      1.00      0.94        22\n",
      "          8       1.00      0.92      0.96        26\n",
      "          9       1.00      1.00      1.00        29\n",
      "         10       1.00      1.00      1.00        27\n",
      "         11       1.00      0.90      0.95        21\n",
      "         12       0.79      0.77      0.78        30\n",
      "         13       0.79      1.00      0.88        19\n",
      "         14       1.00      0.71      0.83        24\n",
      "         15       1.00      1.00      1.00        20\n",
      "         16       0.90      0.75      0.82        36\n",
      "         17       0.89      0.85      0.87        20\n",
      "         18       0.73      0.73      0.73        22\n",
      "         19       0.82      0.69      0.75        26\n",
      "\n",
      "avg / total       0.87      0.85      0.84       500\n",
      "\n"
     ]
    }
   ],
   "source": [
    "print(classification_report(y_test, y_test_pred_naive))"
   ]
  },
  {
   "cell_type": "markdown",
   "metadata": {},
   "source": [
    "## Comparision Between Two"
   ]
  },
  {
   "cell_type": "code",
   "execution_count": 38,
   "metadata": {},
   "outputs": [
    {
     "data": {
      "image/png": "[encoded data removed]",
      "text/plain": [
       "<Figure size 432x288 with 1 Axes>"
      ]
     },
     "metadata": {},
     "output_type": "display_data"
    }
   ],
   "source": [
    "plt.scatter(y_test_pred_me, y_test_pred_naive)\n",
    "plt.show()"
   ]
  },
  {
   "cell_type": "code",
   "execution_count": 39,
   "metadata": {},
   "outputs": [
    {
     "data": {
      "image/png": "[encoded data removed]",
      "text/plain": [
       "<Figure size 432x288 with 1 Axes>"
      ]
     },
     "metadata": {},
     "output_type": "display_data"
    }
   ],
   "source": [
    "plt.scatter(y_train_pred_me, y_train_pred_naive)\n",
    "plt.show()"
   ]
  },
  {
   "cell_type": "markdown",
   "metadata": {},
   "source": [
    "## Comparing predicted values of Training data of two different classifier"
   ]
  },
  {
   "cell_type": "code",
   "execution_count": 40,
   "metadata": {},
   "outputs": [
    {
     "name": "stdout",
     "output_type": "stream",
     "text": [
      "             precision    recall  f1-score   support\n",
      "\n",
      "          0       0.97      0.34      0.51       210\n",
      "          1       0.94      0.84      0.89       129\n",
      "          2       0.97      0.97      0.97        72\n",
      "          3       0.81      0.95      0.87        62\n",
      "          4       0.98      0.83      0.90        96\n",
      "          5       0.11      1.00      0.20         4\n",
      "          6       0.91      0.97      0.94        86\n",
      "          7       0.93      0.99      0.96        72\n",
      "          8       0.97      0.97      0.97        73\n",
      "          9       0.92      0.97      0.94        67\n",
      "         10       0.97      0.99      0.98        71\n",
      "         11       0.56      1.00      0.72        36\n",
      "         12       0.94      0.80      0.86       100\n",
      "         13       0.86      0.94      0.90        79\n",
      "         14       0.67      0.95      0.78        40\n",
      "         15       0.84      1.00      0.91        66\n",
      "         16       0.65      0.95      0.77        44\n",
      "         17       0.76      0.97      0.85        62\n",
      "         18       0.82      0.97      0.89        63\n",
      "         19       0.80      0.90      0.85        68\n",
      "\n",
      "avg / total       0.89      0.85      0.84      1500\n",
      "\n"
     ]
    }
   ],
   "source": [
    "print(classification_report(y_train_pred_me, y_train_pred_naive))"
   ]
  },
  {
   "cell_type": "markdown",
   "metadata": {},
   "source": [
    "## Comparing predicted values of Testing data of two different classifier"
   ]
  },
  {
   "cell_type": "code",
   "execution_count": 41,
   "metadata": {},
   "outputs": [
    {
     "name": "stdout",
     "output_type": "stream",
     "text": [
      "             precision    recall  f1-score   support\n",
      "\n",
      "          0       0.92      0.31      0.46        72\n",
      "          1       0.93      0.89      0.91        45\n",
      "          2       1.00      1.00      1.00        27\n",
      "          3       0.74      0.94      0.83        18\n",
      "          4       0.96      0.74      0.84        31\n",
      "          5       0.20      1.00      0.33         2\n",
      "          6       0.79      1.00      0.88        33\n",
      "          7       0.92      0.92      0.92        25\n",
      "          8       0.96      0.79      0.87        29\n",
      "          9       0.97      0.97      0.97        29\n",
      "         10       0.74      1.00      0.85        20\n",
      "         11       0.47      0.90      0.62        10\n",
      "         12       0.83      0.77      0.80        31\n",
      "         13       0.75      0.90      0.82        20\n",
      "         14       0.47      0.73      0.57        11\n",
      "         15       0.85      1.00      0.92        17\n",
      "         16       0.63      0.83      0.72        23\n",
      "         17       0.79      0.94      0.86        16\n",
      "         18       0.68      0.94      0.79        16\n",
      "         19       0.82      0.72      0.77        25\n",
      "\n",
      "avg / total       0.84      0.80      0.79       500\n",
      "\n"
     ]
    }
   ],
   "source": [
    "print(classification_report(y_test_pred_me, y_test_pred_naive))"
   ]
  }
 ],
 "metadata": {
  "kernelspec": {
   "display_name": "Python 3",
   "language": "python",
   "name": "python3"
  },
  "language_info": {
   "codemirror_mode": {
    "name": "ipython",
    "version": 3
   },
   "file_extension": ".py",
   "mimetype": "text/x-python",
   "name": "python",
   "nbconvert_exporter": "python",
   "pygments_lexer": "ipython3",
   "version": "3.6.5"
  }
 },
 "nbformat": 4,
 "nbformat_minor": 2
}
