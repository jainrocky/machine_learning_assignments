{
 "cells": [
  {
   "cell_type": "code",
   "execution_count": 1,
   "metadata": {},
   "outputs": [],
   "source": [
    "from sklearn.naive_bayes import MultinomialNB\n",
    "from sklearn.metrics import confusion_matrix, classification_report\n",
    "import numpy as np\n",
    "import pandas as pd\n",
    "import matplotlib.pyplot as plt\n",
    "import math as mt\n",
    "import os\n",
    "import time\n",
    "import re\n",
    "from nltk.stem import WordNetLemmatizer\n",
    "from nltk.corpus import stopwords\n",
    "from sklearn.model_selection import train_test_split"
   ]
  },
  {
   "cell_type": "code",
   "execution_count": 2,
   "metadata": {},
   "outputs": [],
   "source": [
    "stemmer = WordNetLemmatizer()"
   ]
  },
  {
   "cell_type": "code",
   "execution_count": 3,
   "metadata": {},
   "outputs": [],
   "source": [
    "''' \"extract_frequency_wise\" function is used to extract the words along with there\n",
    "    frequency from the single data file\n",
    "    after removing all special characters, spaces, stopwords and every useless\n",
    "    chars\n",
    "    \n",
    "    Parameters\n",
    "    ----------\n",
    "    data: file from which to be extracted\n",
    "    \n",
    "    Returns\n",
    "    -------\n",
    "    vocab_dict: dicitionary of words with frequency\n",
    "'''\n",
    "\n",
    "def extract_frequency_wise(data):\n",
    "    documents = []\n",
    "    \n",
    "    ''' Removing Remove all the special characters, all single character,\n",
    "        starting with single character,\n",
    "        multiple spaces\n",
    "        with only one single space\n",
    "    '''\n",
    "    \n",
    "    for x in range(0, len(data)):  \n",
    "        document = re.sub(r'\\W', ' ', str(data[x]))\n",
    "        document = re.sub(r'\\s+[a-zA-Z]\\s+', ' ', document)\n",
    "        document = re.sub(r'^[a-zA-Z]\\s+', ' ', document) \n",
    "        document = re.sub(r'\\s+', ' ', document, flags=re.I)\n",
    "        document = document.lower()\n",
    "        document = document.split()\n",
    "        document = [stemmer.lemmatize(word) for word in document]\n",
    "        documents.append(document)\n",
    "        \n",
    "    ''' Removing stopwords and numbers '''\n",
    "    \n",
    "    vocab = []\n",
    "    stop_words = stopwords.words('english')\n",
    "    \n",
    "    for i in range(len(documents)):\n",
    "        for j in range(len(documents[i])):\n",
    "            if not documents[i][j].isdigit() and documents[i][j] not in stop_words:\n",
    "                vocab.append(documents[i][j])\n",
    "    \n",
    "    ''' creating frequency list '''\n",
    "    \n",
    "    vocab_dict = {}\n",
    "    for w in vocab:\n",
    "        if w not in vocab_dict:\n",
    "            vocab_dict[w] = 1\n",
    "        else:\n",
    "            vocab_dict[w] += 1\n",
    "    \n",
    "    return vocab_dict"
   ]
  },
  {
   "cell_type": "code",
   "execution_count": 4,
   "metadata": {
    "scrolled": false
   },
   "outputs": [],
   "source": [
    "''' \"load_20news_group\" function is used to load the '20 news group' data into\n",
    "    python dictionary after removing special characters from each files with help of\n",
    "    \"extract_frequency_wise\" function \n",
    "    it stores the data into dictionary with folder name (or 20 news group classes) as a \"keys\"\n",
    "    and list of dictionary(of vocabulary) of each file from particular folder as \"values\"\n",
    "    \n",
    "    Parameters\n",
    "    ----------\n",
    "    data_per_group: integer, size of data(or files) to be load from each folder\n",
    "    \n",
    "    Results\n",
    "    -------\n",
    "    dictionary: dictionary of folder wise files vocabulary\n",
    "'''\n",
    "\n",
    "def load_20news_group(data_per_group = None):\n",
    "    dictionary = {}\n",
    "    path = os.getcwd() + '\\\\20_newsgroups' # folder path\n",
    "    \n",
    "    \n",
    "    ''' Getting Folders Names '''\n",
    "    news_groups_name = [] \n",
    "    for folder_name in os.listdir(path):\n",
    "        news_groups_name.append(folder_name) # appending folders name\n",
    "\n",
    "        \n",
    "    ''' Getting Files Names From Each Folder'''\n",
    "    files_name_dict = {}\n",
    "    for folder_name in news_groups_name:\n",
    "        files_name_dict[folder_name] = os.listdir(path + '\\\\' + folder_name) #appending file names group by folders\n",
    "\n",
    "        \n",
    "    ''' creating frequency dictionary of words '''\n",
    "    for news_group in news_groups_name:\n",
    "        if data_per_group == None:\n",
    "            train_limit = len(files_name_dict[news_group])\n",
    "        else:\n",
    "            train_limit = data_per_group\n",
    "        dictionary[news_group] = []\n",
    "        for file_name in files_name_dict[news_group]:\n",
    "            if train_limit:\n",
    "                f = open(path + '\\\\' + news_group +'\\\\'+ file_name)\n",
    "                file_stream = f.readlines()\n",
    "                vocab = extract_frequency_wise(file_stream) # extracting words\n",
    "                dictionary[news_group].append(vocab)\n",
    "                f.close()\n",
    "            else:\n",
    "                break\n",
    "                \n",
    "            train_limit -= 1\n",
    "            \n",
    "    return dictionary"
   ]
  },
  {
   "cell_type": "code",
   "execution_count": 5,
   "metadata": {},
   "outputs": [],
   "source": [
    "''' \"divide_data_train_test\" function is used to divide to loaded data with help of function\n",
    "    \"load_20news_group\" into train and test data to further making the single vocabulary list\n",
    "    of train data to select the features\n",
    "    \n",
    "    Parameters\n",
    "    ----------\n",
    "    data: dictionary \n",
    "    test_size: integer, size of test data\n",
    "    \n",
    "    Returns\n",
    "    -------\n",
    "    train_data: train_data dictionary\n",
    "    test_data: test_data dictionary\n",
    "'''\n",
    "\n",
    "def divide_data_train_test(data, test_size = 0.25):\n",
    "    train_data = {}\n",
    "    test_data = {}\n",
    "    \n",
    "    for k in data:\n",
    "        test_len = int(len(data[k]) * (1-test_size))\n",
    "        train_data[k] = data[k][:test_len]\n",
    "        test_data[k]  = data[k][test_len:]\n",
    "        \n",
    "    return train_data, test_data"
   ]
  },
  {
   "cell_type": "code",
   "execution_count": 6,
   "metadata": {},
   "outputs": [],
   "source": [
    "''' \"create_vocab_dict_from_train_data\" function is used to make a single flat dictionary \n",
    "    from the train data for selecting features\n",
    "    \n",
    "    Parameters\n",
    "    ----------\n",
    "    train_data: dictionary\n",
    "    \n",
    "    Returns\n",
    "    -------\n",
    "    dictionary\n",
    "'''\n",
    "def create_vocab_dict_from_train_data(train_data):\n",
    "    main_vocab = {}\n",
    "    for news_grp in train_data:\n",
    "        for _dict in train_data[news_grp]:\n",
    "            for k in _dict:\n",
    "                if k not in main_vocab:\n",
    "                    main_vocab[k] = _dict[k]\n",
    "                else:\n",
    "                    main_vocab[k] += _dict[k]\n",
    "    return dict(sorted(main_vocab.items(), key = lambda x : x[1], reverse=True))"
   ]
  },
  {
   "cell_type": "code",
   "execution_count": 7,
   "metadata": {},
   "outputs": [],
   "source": [
    "''' \"create_2d_array\" function is used to making a 2d numpy array from the non-flat dictionary(or nested dict)\n",
    "    \n",
    "    Parameters\n",
    "    ----------\n",
    "    data: dictionary\n",
    "    table_cols: selected features(or words)\n",
    "    \n",
    "    Returns\n",
    "    -------\n",
    "    2d np array\n",
    "'''\n",
    "def create_2d_array(data, table_cols):\n",
    "    _2darray = []\n",
    "    for group_name in data.keys():\n",
    "        for _dict in data[group_name]:\n",
    "            curr_row = [0] * (len(table_cols) + 1)\n",
    "            curr_row[-1] = group_name\n",
    "            for i in range(len(table_cols)):\n",
    "                if table_cols[i] in _dict:\n",
    "                    curr_row[i] = _dict[table_cols[i]]\n",
    "            _2darray.append(curr_row)\n",
    "    return np.array(_2darray)"
   ]
  },
  {
   "cell_type": "markdown",
   "metadata": {},
   "source": [
    "# Loading Data from hard drive"
   ]
  },
  {
   "cell_type": "code",
   "execution_count": 8,
   "metadata": {},
   "outputs": [
    {
     "name": "stdout",
     "output_type": "stream",
     "text": [
      "--- 156.42432069778442 seconds ---\n"
     ]
    }
   ],
   "source": [
    "start_time = time.time()\n",
    "data = load_20news_group()\n",
    "print(\"--- %s seconds ---\" % (time.time() - start_time))"
   ]
  },
  {
   "cell_type": "markdown",
   "metadata": {},
   "source": [
    "## Getting all 20 classes names"
   ]
  },
  {
   "cell_type": "code",
   "execution_count": 9,
   "metadata": {},
   "outputs": [
    {
     "name": "stdout",
     "output_type": "stream",
     "text": [
      "unique classes:  20\n"
     ]
    },
    {
     "data": {
      "text/plain": [
       "['alt.atheism',\n",
       " 'comp.graphics',\n",
       " 'comp.os.ms-windows.misc',\n",
       " 'comp.sys.ibm.pc.hardware',\n",
       " 'comp.sys.mac.hardware',\n",
       " 'comp.windows.x',\n",
       " 'misc.forsale',\n",
       " 'rec.autos',\n",
       " 'rec.motorcycles',\n",
       " 'rec.sport.baseball',\n",
       " 'rec.sport.hockey',\n",
       " 'sci.crypt',\n",
       " 'sci.electronics',\n",
       " 'sci.med',\n",
       " 'sci.space',\n",
       " 'soc.religion.christian',\n",
       " 'talk.politics.guns',\n",
       " 'talk.politics.mideast',\n",
       " 'talk.politics.misc',\n",
       " 'talk.religion.misc']"
      ]
     },
     "execution_count": 9,
     "metadata": {},
     "output_type": "execute_result"
    }
   ],
   "source": [
    "classes_names = list(data.keys())\n",
    "print('unique classes: ',len(classes_names))\n",
    "classes_names"
   ]
  },
  {
   "cell_type": "markdown",
   "metadata": {},
   "source": [
    "## Dividing Training and Testing Data"
   ]
  },
  {
   "cell_type": "code",
   "execution_count": 10,
   "metadata": {},
   "outputs": [
    {
     "name": "stdout",
     "output_type": "stream",
     "text": [
      "750 250\n"
     ]
    }
   ],
   "source": [
    "train_data, test_data = divide_data_train_test(data)\n",
    "print(len(train_data[classes_names[0]]), len(test_data[classes_names[0]]))"
   ]
  },
  {
   "cell_type": "markdown",
   "metadata": {},
   "source": [
    "## Creating Words Dictionary from training data for Selecting Features"
   ]
  },
  {
   "cell_type": "code",
   "execution_count": 11,
   "metadata": {},
   "outputs": [],
   "source": [
    "main_vocab = create_vocab_dict_from_train_data(train_data)"
   ]
  },
  {
   "cell_type": "code",
   "execution_count": 12,
   "metadata": {
    "scrolled": false
   },
   "outputs": [
    {
     "data": {
      "text/html": [
       "<div>\n",
       "<style scoped>\n",
       "    .dataframe tbody tr th:only-of-type {\n",
       "        vertical-align: middle;\n",
       "    }\n",
       "\n",
       "    .dataframe tbody tr th {\n",
       "        vertical-align: top;\n",
       "    }\n",
       "\n",
       "    .dataframe thead th {\n",
       "        text-align: right;\n",
       "    }\n",
       "</style>\n",
       "<table border=\"1\" class=\"dataframe\">\n",
       "  <thead>\n",
       "    <tr style=\"text-align: right;\">\n",
       "      <th></th>\n",
       "      <th>words</th>\n",
       "      <th>frequency</th>\n",
       "    </tr>\n",
       "  </thead>\n",
       "  <tbody>\n",
       "    <tr>\n",
       "      <th>0</th>\n",
       "      <td>edu</td>\n",
       "      <td>122900</td>\n",
       "    </tr>\n",
       "    <tr>\n",
       "      <th>1</th>\n",
       "      <td>cmu</td>\n",
       "      <td>39604</td>\n",
       "    </tr>\n",
       "    <tr>\n",
       "      <th>2</th>\n",
       "      <td>com</td>\n",
       "      <td>38205</td>\n",
       "    </tr>\n",
       "    <tr>\n",
       "      <th>3</th>\n",
       "      <td>c</td>\n",
       "      <td>35224</td>\n",
       "    </tr>\n",
       "    <tr>\n",
       "      <th>4</th>\n",
       "      <td>news</td>\n",
       "      <td>25731</td>\n",
       "    </tr>\n",
       "  </tbody>\n",
       "</table>\n",
       "</div>"
      ],
      "text/plain": [
       "  words  frequency\n",
       "0   edu     122900\n",
       "1   cmu      39604\n",
       "2   com      38205\n",
       "3     c      35224\n",
       "4  news      25731"
      ]
     },
     "execution_count": 12,
     "metadata": {},
     "output_type": "execute_result"
    }
   ],
   "source": [
    "df = pd.DataFrame({'words': list(main_vocab.keys()), 'frequency': list(main_vocab.values())})\n",
    "df = df.head(1500)\n",
    "table_cols = list(df.words.values)\n",
    "df.head()"
   ]
  },
  {
   "cell_type": "code",
   "execution_count": 13,
   "metadata": {},
   "outputs": [
    {
     "data": {
      "image/png": "[encoded data removed]",
      "text/plain": [
       "<Figure size 432x288 with 1 Axes>"
      ]
     },
     "metadata": {},
     "output_type": "display_data"
    }
   ],
   "source": [
    "graph = df.head(100)\n",
    "plt.plot(graph['frequency'])\n",
    "plt.show()"
   ]
  },
  {
   "cell_type": "markdown",
   "metadata": {},
   "source": [
    "## Creating 2d array from loaded data and converting into DataFrame"
   ]
  },
  {
   "cell_type": "code",
   "execution_count": 14,
   "metadata": {},
   "outputs": [
    {
     "name": "stdout",
     "output_type": "stream",
     "text": [
      "--- 19.99116802215576 seconds ---\n"
     ]
    }
   ],
   "source": [
    "start_time = time.time()\n",
    "_2darray = create_2d_array(data, table_cols)\n",
    "print(\"--- %s seconds ---\" % (time.time() - start_time))"
   ]
  },
  {
   "cell_type": "code",
   "execution_count": 15,
   "metadata": {},
   "outputs": [],
   "source": [
    "table_cols.append('news_group_class_name')\n",
    "final_df = pd.DataFrame(_2darray, columns=table_cols)\n",
    "table_cols.__delitem__(len(table_cols)-1)"
   ]
  },
  {
   "cell_type": "code",
   "execution_count": 16,
   "metadata": {},
   "outputs": [
    {
     "data": {
      "text/html": [
       "<div>\n",
       "<style scoped>\n",
       "    .dataframe tbody tr th:only-of-type {\n",
       "        vertical-align: middle;\n",
       "    }\n",
       "\n",
       "    .dataframe tbody tr th {\n",
       "        vertical-align: top;\n",
       "    }\n",
       "\n",
       "    .dataframe thead th {\n",
       "        text-align: right;\n",
       "    }\n",
       "</style>\n",
       "<table border=\"1\" class=\"dataframe\">\n",
       "  <thead>\n",
       "    <tr style=\"text-align: right;\">\n",
       "      <th></th>\n",
       "      <th>edu</th>\n",
       "      <th>cmu</th>\n",
       "      <th>com</th>\n",
       "      <th>c</th>\n",
       "      <th>news</th>\n",
       "      <th>srv</th>\n",
       "      <th>cantaloupe</th>\n",
       "      <th>net</th>\n",
       "      <th>wa</th>\n",
       "      <th>line</th>\n",
       "      <th>...</th>\n",
       "      <th>published</th>\n",
       "      <th>wpd</th>\n",
       "      <th>reserve</th>\n",
       "      <th>cross</th>\n",
       "      <th>hallam</th>\n",
       "      <th>psuvm</th>\n",
       "      <th>turned</th>\n",
       "      <th>australia</th>\n",
       "      <th>race</th>\n",
       "      <th>news_group_class_name</th>\n",
       "    </tr>\n",
       "  </thead>\n",
       "  <tbody>\n",
       "    <tr>\n",
       "      <th>0</th>\n",
       "      <td>10</td>\n",
       "      <td>5</td>\n",
       "      <td>1</td>\n",
       "      <td>3</td>\n",
       "      <td>4</td>\n",
       "      <td>3</td>\n",
       "      <td>2</td>\n",
       "      <td>2</td>\n",
       "      <td>1</td>\n",
       "      <td>2</td>\n",
       "      <td>...</td>\n",
       "      <td>0</td>\n",
       "      <td>0</td>\n",
       "      <td>0</td>\n",
       "      <td>0</td>\n",
       "      <td>0</td>\n",
       "      <td>0</td>\n",
       "      <td>0</td>\n",
       "      <td>0</td>\n",
       "      <td>0</td>\n",
       "      <td>alt.atheism</td>\n",
       "    </tr>\n",
       "    <tr>\n",
       "      <th>1</th>\n",
       "      <td>5</td>\n",
       "      <td>4</td>\n",
       "      <td>1</td>\n",
       "      <td>3</td>\n",
       "      <td>3</td>\n",
       "      <td>3</td>\n",
       "      <td>2</td>\n",
       "      <td>1</td>\n",
       "      <td>6</td>\n",
       "      <td>1</td>\n",
       "      <td>...</td>\n",
       "      <td>0</td>\n",
       "      <td>0</td>\n",
       "      <td>0</td>\n",
       "      <td>0</td>\n",
       "      <td>0</td>\n",
       "      <td>0</td>\n",
       "      <td>0</td>\n",
       "      <td>0</td>\n",
       "      <td>0</td>\n",
       "      <td>alt.atheism</td>\n",
       "    </tr>\n",
       "    <tr>\n",
       "      <th>2</th>\n",
       "      <td>7</td>\n",
       "      <td>3</td>\n",
       "      <td>3</td>\n",
       "      <td>4</td>\n",
       "      <td>2</td>\n",
       "      <td>2</td>\n",
       "      <td>1</td>\n",
       "      <td>1</td>\n",
       "      <td>6</td>\n",
       "      <td>1</td>\n",
       "      <td>...</td>\n",
       "      <td>0</td>\n",
       "      <td>0</td>\n",
       "      <td>0</td>\n",
       "      <td>0</td>\n",
       "      <td>0</td>\n",
       "      <td>0</td>\n",
       "      <td>0</td>\n",
       "      <td>0</td>\n",
       "      <td>0</td>\n",
       "      <td>alt.atheism</td>\n",
       "    </tr>\n",
       "    <tr>\n",
       "      <th>3</th>\n",
       "      <td>6</td>\n",
       "      <td>4</td>\n",
       "      <td>1</td>\n",
       "      <td>3</td>\n",
       "      <td>1</td>\n",
       "      <td>3</td>\n",
       "      <td>2</td>\n",
       "      <td>1</td>\n",
       "      <td>1</td>\n",
       "      <td>1</td>\n",
       "      <td>...</td>\n",
       "      <td>0</td>\n",
       "      <td>0</td>\n",
       "      <td>0</td>\n",
       "      <td>0</td>\n",
       "      <td>0</td>\n",
       "      <td>0</td>\n",
       "      <td>0</td>\n",
       "      <td>0</td>\n",
       "      <td>0</td>\n",
       "      <td>alt.atheism</td>\n",
       "    </tr>\n",
       "    <tr>\n",
       "      <th>4</th>\n",
       "      <td>4</td>\n",
       "      <td>4</td>\n",
       "      <td>10</td>\n",
       "      <td>3</td>\n",
       "      <td>0</td>\n",
       "      <td>3</td>\n",
       "      <td>2</td>\n",
       "      <td>1</td>\n",
       "      <td>0</td>\n",
       "      <td>1</td>\n",
       "      <td>...</td>\n",
       "      <td>0</td>\n",
       "      <td>0</td>\n",
       "      <td>0</td>\n",
       "      <td>0</td>\n",
       "      <td>0</td>\n",
       "      <td>0</td>\n",
       "      <td>0</td>\n",
       "      <td>0</td>\n",
       "      <td>0</td>\n",
       "      <td>alt.atheism</td>\n",
       "    </tr>\n",
       "  </tbody>\n",
       "</table>\n",
       "<p>5 rows × 1501 columns</p>\n",
       "</div>"
      ],
      "text/plain": [
       "  edu cmu com  c news srv cantaloupe net wa line          ...           \\\n",
       "0  10   5   1  3    4   3          2   2  1    2          ...            \n",
       "1   5   4   1  3    3   3          2   1  6    1          ...            \n",
       "2   7   3   3  4    2   2          1   1  6    1          ...            \n",
       "3   6   4   1  3    1   3          2   1  1    1          ...            \n",
       "4   4   4  10  3    0   3          2   1  0    1          ...            \n",
       "\n",
       "  published wpd reserve cross hallam psuvm turned australia race  \\\n",
       "0         0   0       0     0      0     0      0         0    0   \n",
       "1         0   0       0     0      0     0      0         0    0   \n",
       "2         0   0       0     0      0     0      0         0    0   \n",
       "3         0   0       0     0      0     0      0         0    0   \n",
       "4         0   0       0     0      0     0      0         0    0   \n",
       "\n",
       "  news_group_class_name  \n",
       "0           alt.atheism  \n",
       "1           alt.atheism  \n",
       "2           alt.atheism  \n",
       "3           alt.atheism  \n",
       "4           alt.atheism  \n",
       "\n",
       "[5 rows x 1501 columns]"
      ]
     },
     "execution_count": 16,
     "metadata": {},
     "output_type": "execute_result"
    }
   ],
   "source": [
    "final_df.head()"
   ]
  },
  {
   "cell_type": "markdown",
   "metadata": {},
   "source": [
    "## Converting String value of classes into integer"
   ]
  },
  {
   "cell_type": "code",
   "execution_count": 17,
   "metadata": {},
   "outputs": [],
   "source": [
    "class_conv ={}\n",
    "for i in range(len(classes_names)):\n",
    "    class_conv[classes_names[i]] = i"
   ]
  },
  {
   "cell_type": "code",
   "execution_count": 18,
   "metadata": {},
   "outputs": [],
   "source": [
    "for i in range(len(final_df)):\n",
    "    final_df['news_group_class_name'][i] = class_conv[final_df['news_group_class_name'][i]]"
   ]
  },
  {
   "cell_type": "code",
   "execution_count": 19,
   "metadata": {},
   "outputs": [
    {
     "data": {
      "text/html": [
       "<div>\n",
       "<style scoped>\n",
       "    .dataframe tbody tr th:only-of-type {\n",
       "        vertical-align: middle;\n",
       "    }\n",
       "\n",
       "    .dataframe tbody tr th {\n",
       "        vertical-align: top;\n",
       "    }\n",
       "\n",
       "    .dataframe thead th {\n",
       "        text-align: right;\n",
       "    }\n",
       "</style>\n",
       "<table border=\"1\" class=\"dataframe\">\n",
       "  <thead>\n",
       "    <tr style=\"text-align: right;\">\n",
       "      <th></th>\n",
       "      <th>edu</th>\n",
       "      <th>cmu</th>\n",
       "      <th>com</th>\n",
       "      <th>c</th>\n",
       "      <th>news</th>\n",
       "      <th>srv</th>\n",
       "      <th>cantaloupe</th>\n",
       "      <th>net</th>\n",
       "      <th>wa</th>\n",
       "      <th>line</th>\n",
       "      <th>...</th>\n",
       "      <th>published</th>\n",
       "      <th>wpd</th>\n",
       "      <th>reserve</th>\n",
       "      <th>cross</th>\n",
       "      <th>hallam</th>\n",
       "      <th>psuvm</th>\n",
       "      <th>turned</th>\n",
       "      <th>australia</th>\n",
       "      <th>race</th>\n",
       "      <th>news_group_class_name</th>\n",
       "    </tr>\n",
       "  </thead>\n",
       "  <tbody>\n",
       "    <tr>\n",
       "      <th>0</th>\n",
       "      <td>10</td>\n",
       "      <td>5</td>\n",
       "      <td>1</td>\n",
       "      <td>3</td>\n",
       "      <td>4</td>\n",
       "      <td>3</td>\n",
       "      <td>2</td>\n",
       "      <td>2</td>\n",
       "      <td>1</td>\n",
       "      <td>2</td>\n",
       "      <td>...</td>\n",
       "      <td>0</td>\n",
       "      <td>0</td>\n",
       "      <td>0</td>\n",
       "      <td>0</td>\n",
       "      <td>0</td>\n",
       "      <td>0</td>\n",
       "      <td>0</td>\n",
       "      <td>0</td>\n",
       "      <td>0</td>\n",
       "      <td>0</td>\n",
       "    </tr>\n",
       "    <tr>\n",
       "      <th>1</th>\n",
       "      <td>5</td>\n",
       "      <td>4</td>\n",
       "      <td>1</td>\n",
       "      <td>3</td>\n",
       "      <td>3</td>\n",
       "      <td>3</td>\n",
       "      <td>2</td>\n",
       "      <td>1</td>\n",
       "      <td>6</td>\n",
       "      <td>1</td>\n",
       "      <td>...</td>\n",
       "      <td>0</td>\n",
       "      <td>0</td>\n",
       "      <td>0</td>\n",
       "      <td>0</td>\n",
       "      <td>0</td>\n",
       "      <td>0</td>\n",
       "      <td>0</td>\n",
       "      <td>0</td>\n",
       "      <td>0</td>\n",
       "      <td>0</td>\n",
       "    </tr>\n",
       "    <tr>\n",
       "      <th>2</th>\n",
       "      <td>7</td>\n",
       "      <td>3</td>\n",
       "      <td>3</td>\n",
       "      <td>4</td>\n",
       "      <td>2</td>\n",
       "      <td>2</td>\n",
       "      <td>1</td>\n",
       "      <td>1</td>\n",
       "      <td>6</td>\n",
       "      <td>1</td>\n",
       "      <td>...</td>\n",
       "      <td>0</td>\n",
       "      <td>0</td>\n",
       "      <td>0</td>\n",
       "      <td>0</td>\n",
       "      <td>0</td>\n",
       "      <td>0</td>\n",
       "      <td>0</td>\n",
       "      <td>0</td>\n",
       "      <td>0</td>\n",
       "      <td>0</td>\n",
       "    </tr>\n",
       "    <tr>\n",
       "      <th>3</th>\n",
       "      <td>6</td>\n",
       "      <td>4</td>\n",
       "      <td>1</td>\n",
       "      <td>3</td>\n",
       "      <td>1</td>\n",
       "      <td>3</td>\n",
       "      <td>2</td>\n",
       "      <td>1</td>\n",
       "      <td>1</td>\n",
       "      <td>1</td>\n",
       "      <td>...</td>\n",
       "      <td>0</td>\n",
       "      <td>0</td>\n",
       "      <td>0</td>\n",
       "      <td>0</td>\n",
       "      <td>0</td>\n",
       "      <td>0</td>\n",
       "      <td>0</td>\n",
       "      <td>0</td>\n",
       "      <td>0</td>\n",
       "      <td>0</td>\n",
       "    </tr>\n",
       "    <tr>\n",
       "      <th>4</th>\n",
       "      <td>4</td>\n",
       "      <td>4</td>\n",
       "      <td>10</td>\n",
       "      <td>3</td>\n",
       "      <td>0</td>\n",
       "      <td>3</td>\n",
       "      <td>2</td>\n",
       "      <td>1</td>\n",
       "      <td>0</td>\n",
       "      <td>1</td>\n",
       "      <td>...</td>\n",
       "      <td>0</td>\n",
       "      <td>0</td>\n",
       "      <td>0</td>\n",
       "      <td>0</td>\n",
       "      <td>0</td>\n",
       "      <td>0</td>\n",
       "      <td>0</td>\n",
       "      <td>0</td>\n",
       "      <td>0</td>\n",
       "      <td>0</td>\n",
       "    </tr>\n",
       "  </tbody>\n",
       "</table>\n",
       "<p>5 rows × 1501 columns</p>\n",
       "</div>"
      ],
      "text/plain": [
       "  edu cmu com  c news srv cantaloupe net wa line          ...           \\\n",
       "0  10   5   1  3    4   3          2   2  1    2          ...            \n",
       "1   5   4   1  3    3   3          2   1  6    1          ...            \n",
       "2   7   3   3  4    2   2          1   1  6    1          ...            \n",
       "3   6   4   1  3    1   3          2   1  1    1          ...            \n",
       "4   4   4  10  3    0   3          2   1  0    1          ...            \n",
       "\n",
       "  published wpd reserve cross hallam psuvm turned australia race  \\\n",
       "0         0   0       0     0      0     0      0         0    0   \n",
       "1         0   0       0     0      0     0      0         0    0   \n",
       "2         0   0       0     0      0     0      0         0    0   \n",
       "3         0   0       0     0      0     0      0         0    0   \n",
       "4         0   0       0     0      0     0      0         0    0   \n",
       "\n",
       "  news_group_class_name  \n",
       "0                     0  \n",
       "1                     0  \n",
       "2                     0  \n",
       "3                     0  \n",
       "4                     0  \n",
       "\n",
       "[5 rows x 1501 columns]"
      ]
     },
     "execution_count": 19,
     "metadata": {},
     "output_type": "execute_result"
    }
   ],
   "source": [
    "final_df.head()"
   ]
  },
  {
   "cell_type": "code",
   "execution_count": 20,
   "metadata": {},
   "outputs": [],
   "source": [
    "X = np.array(final_df.iloc[:,:-1].values, dtype='int')\n",
    "Y = final_df['news_group_class_name'].values\n",
    "Y=Y.astype('int')"
   ]
  },
  {
   "cell_type": "markdown",
   "metadata": {},
   "source": [
    "## Splitting data into training and testing part using sklearn in built function"
   ]
  },
  {
   "cell_type": "code",
   "execution_count": 21,
   "metadata": {},
   "outputs": [
    {
     "name": "stdout",
     "output_type": "stream",
     "text": [
      "(14997, 1500) (5000, 1500)\n"
     ]
    }
   ],
   "source": [
    "x_train, x_test, y_train, y_test = train_test_split(X, Y, random_state=1) \n",
    "print(x_train.shape, x_test.shape)"
   ]
  },
  {
   "cell_type": "markdown",
   "metadata": {},
   "source": [
    "## Implementing `Multinomial Naive Bayes` For Text Classification"
   ]
  },
  {
   "cell_type": "code",
   "execution_count": 22,
   "metadata": {},
   "outputs": [],
   "source": [
    "class MultinomialNaiveBayes:\n",
    "    \n",
    "    __map = {}\n",
    "    __alpha = None\n",
    "    def fit(self, x_train, y_train, alpha = 1.0):\n",
    "        self.__alpha = alpha\n",
    "        for class_type in set(y_train):\n",
    "            self.__map[class_type] = {}\n",
    "            xs = x_train[y_train == class_type]\n",
    "            self.__map[class_type]['total_count'] = xs.sum()\n",
    "            feature_counts = xs.sum(axis=0)\n",
    "            for i in range(len(feature_counts)):\n",
    "                self.__map[class_type][i] = feature_counts[i]\n",
    "                \n",
    "                \n",
    "    def max_probability(self, x_row, classes, feature_len):\n",
    "        best_class = None\n",
    "        max_prob = -2**31\n",
    "        for each_class in  classes:\n",
    "            temp_prob = 1\n",
    "            for i in range(feature_len):\n",
    "                if x_row[i] > 0:\n",
    "                    temp_prob *= (self.__map[each_class][i] + self.__alpha) / (self.__map[each_class]['total_count'] + (self.__alpha * feature_len))\n",
    "            if temp_prob > max_prob:\n",
    "                max_prob = temp_prob\n",
    "                best_class = each_class\n",
    "        if best_class is not None:\n",
    "            return best_class\n",
    "        return -1\n",
    "            \n",
    "    \n",
    "    def predict(self, x_test):\n",
    "        y_pred = []\n",
    "        classes = self.__map.keys()\n",
    "        feature_len = len(x_test[0])\n",
    "        for x_row in x_test:\n",
    "            y_pred.append(self.max_probability(x_row, classes, feature_len))\n",
    "        return np.array(y_pred)\n"
   ]
  },
  {
   "cell_type": "markdown",
   "metadata": {},
   "source": [
    "## Classification Using Self Implemented MultinomialNaiveBayes"
   ]
  },
  {
   "cell_type": "code",
   "execution_count": 23,
   "metadata": {},
   "outputs": [],
   "source": [
    "mnb = MultinomialNaiveBayes()\n",
    "d = mnb.fit(x_train, y_train)"
   ]
  },
  {
   "cell_type": "code",
   "execution_count": 24,
   "metadata": {},
   "outputs": [
    {
     "name": "stdout",
     "output_type": "stream",
     "text": [
      "--- 500.01139760017395 seconds ---\n"
     ]
    },
    {
     "data": {
      "text/plain": [
       "array([ 0, 15,  0, ...,  5,  0,  0])"
      ]
     },
     "execution_count": 24,
     "metadata": {},
     "output_type": "execute_result"
    }
   ],
   "source": [
    "start_time = time.time()\n",
    "y_train_pred_me = mnb.predict(x_train)\n",
    "print(\"--- %s seconds ---\" % (time.time() - start_time))\n",
    "\n",
    "y_train_pred_me"
   ]
  },
  {
   "cell_type": "code",
   "execution_count": 25,
   "metadata": {},
   "outputs": [
    {
     "name": "stdout",
     "output_type": "stream",
     "text": [
      "--- 164.16608572006226 seconds ---\n"
     ]
    },
    {
     "data": {
      "text/plain": [
       "array([14,  8,  7, ...,  7, 14,  7])"
      ]
     },
     "execution_count": 25,
     "metadata": {},
     "output_type": "execute_result"
    }
   ],
   "source": [
    "start_time = time.time()\n",
    "y_test_pred_me = mnb.predict(x_test)\n",
    "print(\"--- %s seconds ---\" % (time.time() - start_time))\n",
    "\n",
    "y_test_pred_me"
   ]
  },
  {
   "cell_type": "code",
   "execution_count": 26,
   "metadata": {},
   "outputs": [
    {
     "name": "stdout",
     "output_type": "stream",
     "text": [
      "             precision    recall  f1-score   support\n",
      "\n",
      "          0       0.20      0.91      0.33       739\n",
      "          1       0.78      0.80      0.79       752\n",
      "          2       0.96      0.57      0.71       747\n",
      "          3       0.79      0.84      0.81       740\n",
      "          4       0.87      0.90      0.88       734\n",
      "          5       0.88      0.75      0.81       735\n",
      "          6       0.85      0.91      0.88       748\n",
      "          7       0.95      0.83      0.89       777\n",
      "          8       0.95      0.89      0.92       707\n",
      "          9       0.98      0.82      0.90       755\n",
      "         10       0.97      0.85      0.91       753\n",
      "         11       0.98      0.67      0.80       752\n",
      "         12       0.88      0.86      0.87       761\n",
      "         13       0.97      0.76      0.85       764\n",
      "         14       0.98      0.76      0.86       762\n",
      "         15       1.00      0.69      0.82       764\n",
      "         16       0.82      0.62      0.71       745\n",
      "         17       0.95      0.51      0.66       742\n",
      "         18       0.79      0.52      0.63       772\n",
      "         19       0.76      0.43      0.55       748\n",
      "\n",
      "avg / total       0.87      0.74      0.78     14997\n",
      "\n"
     ]
    }
   ],
   "source": [
    "print((classification_report(y_train, y_train_pred_me)))"
   ]
  },
  {
   "cell_type": "code",
   "execution_count": 27,
   "metadata": {},
   "outputs": [
    {
     "name": "stdout",
     "output_type": "stream",
     "text": [
      "             precision    recall  f1-score   support\n",
      "\n",
      "          0       0.21      0.89      0.34       261\n",
      "          1       0.70      0.73      0.71       248\n",
      "          2       0.91      0.51      0.65       253\n",
      "          3       0.78      0.78      0.78       260\n",
      "          4       0.87      0.88      0.87       266\n",
      "          5       0.82      0.68      0.74       265\n",
      "          6       0.83      0.90      0.86       252\n",
      "          7       0.94      0.78      0.86       223\n",
      "          8       0.97      0.90      0.94       293\n",
      "          9       0.99      0.87      0.92       245\n",
      "         10       0.99      0.85      0.92       247\n",
      "         11       0.96      0.69      0.80       248\n",
      "         12       0.78      0.82      0.80       239\n",
      "         13       0.96      0.77      0.85       236\n",
      "         14       0.98      0.74      0.84       238\n",
      "         15       1.00      0.66      0.80       233\n",
      "         16       0.75      0.62      0.68       255\n",
      "         17       0.95      0.50      0.66       258\n",
      "         18       0.72      0.45      0.55       228\n",
      "         19       0.79      0.43      0.56       252\n",
      "\n",
      "avg / total       0.84      0.72      0.76      5000\n",
      "\n"
     ]
    }
   ],
   "source": [
    "print(classification_report(y_test, y_test_pred_me))"
   ]
  },
  {
   "cell_type": "markdown",
   "metadata": {},
   "source": [
    "## Classification Using Inbuilt Sklearn MultinomialNB"
   ]
  },
  {
   "cell_type": "code",
   "execution_count": 28,
   "metadata": {},
   "outputs": [
    {
     "data": {
      "text/plain": [
       "MultinomialNB(alpha=1.0, class_prior=None, fit_prior=True)"
      ]
     },
     "execution_count": 28,
     "metadata": {},
     "output_type": "execute_result"
    }
   ],
   "source": [
    "clf = MultinomialNB()\n",
    "clf.fit(x_train, y_train)"
   ]
  },
  {
   "cell_type": "code",
   "execution_count": 29,
   "metadata": {},
   "outputs": [],
   "source": [
    "y_train_pred_naive = clf.predict(x_train)"
   ]
  },
  {
   "cell_type": "code",
   "execution_count": 30,
   "metadata": {},
   "outputs": [
    {
     "data": {
      "text/plain": [
       "array([ 3, 15, 17, ...,  5, 12, 19])"
      ]
     },
     "execution_count": 30,
     "metadata": {},
     "output_type": "execute_result"
    }
   ],
   "source": [
    "y_train_pred_naive"
   ]
  },
  {
   "cell_type": "code",
   "execution_count": 31,
   "metadata": {},
   "outputs": [],
   "source": [
    "y_test_pred_naive = clf.predict(x_test)"
   ]
  },
  {
   "cell_type": "code",
   "execution_count": 32,
   "metadata": {},
   "outputs": [
    {
     "data": {
      "text/plain": [
       "array([14,  8,  7, ...,  4, 14,  7])"
      ]
     },
     "execution_count": 32,
     "metadata": {},
     "output_type": "execute_result"
    }
   ],
   "source": [
    "y_test_pred_naive"
   ]
  },
  {
   "cell_type": "code",
   "execution_count": 33,
   "metadata": {},
   "outputs": [
    {
     "name": "stdout",
     "output_type": "stream",
     "text": [
      "             precision    recall  f1-score   support\n",
      "\n",
      "          0       0.82      0.82      0.82       739\n",
      "          1       0.83      0.84      0.84       752\n",
      "          2       0.87      0.76      0.81       747\n",
      "          3       0.81      0.90      0.85       740\n",
      "          4       0.84      0.93      0.89       734\n",
      "          5       0.87      0.79      0.83       735\n",
      "          6       0.81      0.96      0.88       748\n",
      "          7       0.90      0.93      0.91       777\n",
      "          8       0.90      0.96      0.93       707\n",
      "          9       0.95      0.92      0.94       755\n",
      "         10       0.95      0.95      0.95       753\n",
      "         11       0.98      0.94      0.96       752\n",
      "         12       0.87      0.89      0.88       761\n",
      "         13       0.97      0.89      0.93       764\n",
      "         14       0.96      0.92      0.94       762\n",
      "         15       0.96      1.00      0.98       764\n",
      "         16       0.84      0.91      0.87       745\n",
      "         17       0.94      0.85      0.89       742\n",
      "         18       0.79      0.75      0.77       772\n",
      "         19       0.72      0.66      0.69       748\n",
      "\n",
      "avg / total       0.88      0.88      0.88     14997\n",
      "\n"
     ]
    }
   ],
   "source": [
    "print((classification_report(y_train, y_train_pred_naive)))"
   ]
  },
  {
   "cell_type": "code",
   "execution_count": 34,
   "metadata": {},
   "outputs": [
    {
     "name": "stdout",
     "output_type": "stream",
     "text": [
      "             precision    recall  f1-score   support\n",
      "\n",
      "          0       0.81      0.79      0.80       261\n",
      "          1       0.77      0.76      0.76       248\n",
      "          2       0.84      0.71      0.77       253\n",
      "          3       0.76      0.83      0.80       260\n",
      "          4       0.81      0.92      0.86       266\n",
      "          5       0.84      0.75      0.79       265\n",
      "          6       0.76      0.93      0.84       252\n",
      "          7       0.84      0.86      0.85       223\n",
      "          8       0.90      0.96      0.93       293\n",
      "          9       0.95      0.91      0.93       245\n",
      "         10       0.96      0.93      0.94       247\n",
      "         11       0.97      0.92      0.94       248\n",
      "         12       0.84      0.87      0.85       239\n",
      "         13       0.96      0.90      0.93       236\n",
      "         14       0.90      0.91      0.91       238\n",
      "         15       0.97      1.00      0.99       233\n",
      "         16       0.85      0.92      0.88       255\n",
      "         17       0.97      0.86      0.91       258\n",
      "         18       0.77      0.74      0.75       228\n",
      "         19       0.68      0.65      0.67       252\n",
      "\n",
      "avg / total       0.86      0.86      0.86      5000\n",
      "\n"
     ]
    }
   ],
   "source": [
    "print(classification_report(y_test, y_test_pred_naive))"
   ]
  },
  {
   "cell_type": "markdown",
   "metadata": {},
   "source": [
    "## Comparision Between Two"
   ]
  },
  {
   "cell_type": "code",
   "execution_count": 35,
   "metadata": {},
   "outputs": [
    {
     "data": {
      "image/png": "[encoded data removed]",
      "text/plain": [
       "<Figure size 432x288 with 1 Axes>"
      ]
     },
     "metadata": {},
     "output_type": "display_data"
    }
   ],
   "source": [
    "plt.scatter(y_test_pred_me, y_test_pred_naive)\n",
    "plt.show()"
   ]
  },
  {
   "cell_type": "code",
   "execution_count": 36,
   "metadata": {},
   "outputs": [
    {
     "data": {
      "image/png": "[encoded data removed]",
      "text/plain": [
       "<Figure size 432x288 with 1 Axes>"
      ]
     },
     "metadata": {},
     "output_type": "display_data"
    }
   ],
   "source": [
    "plt.scatter(y_train_pred_me, y_train_pred_naive)\n",
    "plt.show()"
   ]
  },
  {
   "cell_type": "markdown",
   "metadata": {},
   "source": [
    "## Comparing predicted values of Training data of two different classifier"
   ]
  },
  {
   "cell_type": "code",
   "execution_count": 37,
   "metadata": {},
   "outputs": [
    {
     "name": "stdout",
     "output_type": "stream",
     "text": [
      "             precision    recall  f1-score   support\n",
      "\n",
      "          0       0.98      0.22      0.36      3300\n",
      "          1       0.83      0.82      0.82       769\n",
      "          2       0.62      0.92      0.74       440\n",
      "          3       0.81      0.83      0.82       794\n",
      "          4       0.84      0.90      0.87       760\n",
      "          5       0.81      0.87      0.84       625\n",
      "          6       0.85      0.94      0.89       801\n",
      "          7       0.81      0.94      0.87       682\n",
      "          8       0.84      0.96      0.90       662\n",
      "          9       0.80      0.93      0.86       630\n",
      "         10       0.83      0.95      0.89       660\n",
      "         11       0.69      0.96      0.80       516\n",
      "         12       0.84      0.87      0.85       745\n",
      "         13       0.78      0.91      0.84       597\n",
      "         14       0.77      0.96      0.86       590\n",
      "         15       0.67      1.00      0.80       528\n",
      "         16       0.61      0.88      0.72       566\n",
      "         17       0.55      0.93      0.69       398\n",
      "         18       0.62      0.89      0.73       509\n",
      "         19       0.58      0.93      0.71       425\n",
      "\n",
      "avg / total       0.81      0.76      0.72     14997\n",
      "\n"
     ]
    }
   ],
   "source": [
    "print(classification_report(y_train_pred_me, y_train_pred_naive))"
   ]
  },
  {
   "cell_type": "markdown",
   "metadata": {},
   "source": [
    "## Comparing predicted values of Testing data of two different classifier"
   ]
  },
  {
   "cell_type": "code",
   "execution_count": 38,
   "metadata": {},
   "outputs": [
    {
     "name": "stdout",
     "output_type": "stream",
     "text": [
      "             precision    recall  f1-score   support\n",
      "\n",
      "          0       0.98      0.22      0.36      1110\n",
      "          1       0.77      0.73      0.75       259\n",
      "          2       0.60      0.91      0.72       141\n",
      "          3       0.79      0.85      0.82       261\n",
      "          4       0.81      0.91      0.86       268\n",
      "          5       0.77      0.82      0.80       221\n",
      "          6       0.83      0.93      0.88       274\n",
      "          7       0.73      0.90      0.81       186\n",
      "          8       0.85      0.97      0.91       272\n",
      "          9       0.83      0.92      0.87       215\n",
      "         10       0.84      0.93      0.88       214\n",
      "         11       0.73      0.96      0.83       178\n",
      "         12       0.81      0.80      0.80       253\n",
      "         13       0.78      0.91      0.84       190\n",
      "         14       0.70      0.94      0.80       178\n",
      "         15       0.64      1.00      0.78       154\n",
      "         16       0.66      0.87      0.75       210\n",
      "         17       0.55      0.92      0.68       137\n",
      "         18       0.54      0.82      0.65       142\n",
      "         19       0.53      0.93      0.68       137\n",
      "\n",
      "avg / total       0.80      0.74      0.71      5000\n",
      "\n"
     ]
    }
   ],
   "source": [
    "print(classification_report(y_test_pred_me, y_test_pred_naive))"
   ]
  }
 ],
 "metadata": {
  "kernelspec": {
   "display_name": "Python 3",
   "language": "python",
   "name": "python3"
  },
  "language_info": {
   "codemirror_mode": {
    "name": "ipython",
    "version": 3
   },
   "file_extension": ".py",
   "mimetype": "text/x-python",
   "name": "python",
   "nbconvert_exporter": "python",
   "pygments_lexer": "ipython3",
   "version": "3.6.5"
  }
 },
 "nbformat": 4,
 "nbformat_minor": 2
}
