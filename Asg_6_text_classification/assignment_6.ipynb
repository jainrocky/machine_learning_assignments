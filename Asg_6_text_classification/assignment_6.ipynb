{
 "cells": [
  {
   "cell_type": "code",
   "execution_count": 1,
   "metadata": {},
   "outputs": [],
   "source": [
    "from sklearn.naive_bayes import MultinomialNB\n",
    "from sklearn.metrics import confusion_matrix, classification_report, accuracy_score\n",
    "import numpy as np\n",
    "import pandas as pd\n",
    "import matplotlib.pyplot as plt\n",
    "import math as mt\n",
    "import os\n",
    "import re\n",
    "from nltk.corpus import stopwords\n",
    "from sklearn.model_selection import train_test_split"
   ]
  },
  {
   "cell_type": "code",
   "execution_count": 2,
   "metadata": {},
   "outputs": [],
   "source": [
    "import matplotlib\n",
    "matplotlib.rc('figure', figsize=[10,5])"
   ]
  },
  {
   "cell_type": "code",
   "execution_count": 3,
   "metadata": {},
   "outputs": [],
   "source": [
    "''' \"extract_frequency_wise\" function is used to extract the words along with there\n",
    "    frequency from the single data file\n",
    "    after removing all special characters, spaces, stopwords and every useless\n",
    "    chars\n",
    "    \n",
    "    Parameters\n",
    "    ----------\n",
    "    data: file from which to be extracted\n",
    "    \n",
    "    Returns\n",
    "    -------\n",
    "    vocab_dict: dicitionary of words with frequency\n",
    "'''\n",
    "\n",
    "def extract_frequency_wise(data):\n",
    "    documents = []\n",
    "    \n",
    "    ''' Removing Remove all the special characters, all single character,\n",
    "        starting with single character,\n",
    "        multiple spaces\n",
    "        with only one single space\n",
    "    '''\n",
    "    \n",
    "    for x in range(0, len(data)):  \n",
    "        document = re.sub(r'\\W', ' ', str(data[x]))\n",
    "        document = re.sub(r'\\s+[a-zA-Z]\\s+', ' ', document)\n",
    "        document = re.sub(r'^[a-zA-Z]\\s+', ' ', document) \n",
    "        document = re.sub(r'\\s+', ' ', document, flags=re.I)\n",
    "        document = document.lower()\n",
    "        document = document.split()\n",
    "        documents.append(document)\n",
    "        \n",
    "    ''' Removing stopwords and numbers '''\n",
    "    \n",
    "    vocab = []\n",
    "    stop_words = stopwords.words('english')\n",
    "    \n",
    "    for i in range(len(documents)):\n",
    "        for j in range(len(documents[i])):\n",
    "            if not documents[i][j].isdigit() and documents[i][j] not in stop_words:\n",
    "                vocab.append(documents[i][j])\n",
    "    \n",
    "    ''' creating frequency list '''\n",
    "    \n",
    "    vocab_dict = {}\n",
    "    for w in vocab:\n",
    "        if w not in vocab_dict:\n",
    "            vocab_dict[w] = 1\n",
    "        else:\n",
    "            vocab_dict[w] += 1\n",
    "    \n",
    "    return vocab_dict"
   ]
  },
  {
   "cell_type": "code",
   "execution_count": 4,
   "metadata": {
    "scrolled": false
   },
   "outputs": [],
   "source": [
    "''' \"load_20news_group\" function is used to load the '20 news group' data into\n",
    "    python dictionary after removing special characters from each files with help of\n",
    "    \"extract_frequency_wise\" function \n",
    "    it stores the data into dictionary with folder name (or 20 news group classes) as a \"keys\"\n",
    "    and list of dictionary(of vocabulary) of each file from particular folder as \"values\"\n",
    "    \n",
    "    Parameters\n",
    "    ----------\n",
    "    data_per_group: integer, size of data(or files) to be load from each folder\n",
    "    \n",
    "    Results\n",
    "    -------\n",
    "    dictionary: dictionary of folder wise files vocabulary\n",
    "'''\n",
    "\n",
    "def load_20news_group(data_per_group = None):\n",
    "    dictionary = {}\n",
    "    path = os.getcwd() + '\\\\20_newsgroups' # folder path from current working directory\n",
    "    \n",
    "    \n",
    "    ''' Getting Folders Names '''\n",
    "    news_groups_name = os.listdir(path)\n",
    "        \n",
    "    ''' Getting Files Names From Each Folder'''\n",
    "    files_name_dict = {}\n",
    "    for folder_name in news_groups_name:\n",
    "        files_name_dict[folder_name] = os.listdir(path + '\\\\' + folder_name) #appending file names group by folders\n",
    "\n",
    "        \n",
    "    ''' creating frequency dictionary of words '''\n",
    "    for news_group in news_groups_name:\n",
    "        if data_per_group == None:\n",
    "            train_limit = len(files_name_dict[news_group])\n",
    "        else:\n",
    "            train_limit = data_per_group\n",
    "        dictionary[news_group] = []\n",
    "        for file_name in files_name_dict[news_group]:\n",
    "            if train_limit:\n",
    "                f = open(path + '\\\\' + news_group +'\\\\'+ file_name)\n",
    "                file_stream = f.readlines()\n",
    "                vocab = extract_frequency_wise(file_stream) # extracting words\n",
    "                dictionary[news_group].append(vocab)\n",
    "                f.close()\n",
    "            else:\n",
    "                break\n",
    "                \n",
    "            train_limit -= 1\n",
    "            \n",
    "    return dictionary"
   ]
  },
  {
   "cell_type": "code",
   "execution_count": 5,
   "metadata": {},
   "outputs": [],
   "source": [
    "''' \"divide_data_train_test\" function is used to divide to loaded data with help of function\n",
    "    \"load_20news_group\" into train and test data to further making the single vocabulary list\n",
    "    of train data to select the features\n",
    "    \n",
    "    Parameters\n",
    "    ----------\n",
    "    data: dictionary \n",
    "    test_size: integer, size of test data\n",
    "    \n",
    "    Returns\n",
    "    -------\n",
    "    train_data: train_data dictionary\n",
    "    test_data: test_data dictionary\n",
    "'''\n",
    "\n",
    "def divide_data_train_test(data, test_size = 0.25):\n",
    "    train_data = {}\n",
    "    test_data = {}\n",
    "    \n",
    "    for k in data:\n",
    "        test_len = int(len(data[k]) * (1-test_size))\n",
    "        train_data[k] = data[k][:test_len]\n",
    "        test_data[k]  = data[k][test_len:]\n",
    "        \n",
    "    return train_data, test_data"
   ]
  },
  {
   "cell_type": "code",
   "execution_count": 6,
   "metadata": {},
   "outputs": [],
   "source": [
    "''' \"create_vocab_dict_from_train_data\" function is used to make a single flat dictionary \n",
    "    from the train data for selecting features\n",
    "    \n",
    "    Parameters\n",
    "    ----------\n",
    "    train_data: dictionary\n",
    "    \n",
    "    Returns\n",
    "    -------\n",
    "    dictionary\n",
    "'''\n",
    "def create_vocab_dict_from_train_data(train_data):\n",
    "    main_vocab = {}\n",
    "    for news_grp in train_data:\n",
    "        for _dict in train_data[news_grp]:\n",
    "            for k in _dict:\n",
    "                if k not in main_vocab:\n",
    "                    main_vocab[k] = _dict[k]\n",
    "                else:\n",
    "                    main_vocab[k] += _dict[k]\n",
    "    return dict(sorted(main_vocab.items(), key = lambda x : x[1], reverse=True))"
   ]
  },
  {
   "cell_type": "code",
   "execution_count": 7,
   "metadata": {},
   "outputs": [],
   "source": [
    "''' \"create_2d_array\" function is used to making a 2d numpy array from the non-flat dictionary(or nested dict)\n",
    "    \n",
    "    Parameters\n",
    "    ----------\n",
    "    data: dictionary\n",
    "    table_cols: selected features(or words)\n",
    "    \n",
    "    Returns\n",
    "    -------\n",
    "    2d np array\n",
    "'''\n",
    "def create_2d_array(data, table_cols):\n",
    "    _2darray = []\n",
    "    k=0\n",
    "    for group_name in data.keys():\n",
    "        for _dict in data[group_name]:\n",
    "            curr_row = [0] * (len(table_cols) + 1) # (+ 1) because of news_group_class_name column\n",
    "            curr_row[-1] = k # news_group names\n",
    "            for i in range(len(table_cols)):\n",
    "                if table_cols[i] in _dict:\n",
    "                    curr_row[i] = _dict[table_cols[i]]\n",
    "            _2darray.append(curr_row)\n",
    "        k += 1\n",
    "    return np.array(_2darray)"
   ]
  },
  {
   "cell_type": "markdown",
   "metadata": {},
   "source": [
    "# Loading Data from hard drive (it's takes some time)"
   ]
  },
  {
   "cell_type": "code",
   "execution_count": 8,
   "metadata": {},
   "outputs": [],
   "source": [
    "data = load_20news_group() # pass one integer args for size of data"
   ]
  },
  {
   "cell_type": "markdown",
   "metadata": {},
   "source": [
    "## Getting all 20 classes names"
   ]
  },
  {
   "cell_type": "code",
   "execution_count": 9,
   "metadata": {},
   "outputs": [
    {
     "name": "stdout",
     "output_type": "stream",
     "text": [
      "unique classes:  20\n"
     ]
    }
   ],
   "source": [
    "classes_names = list(data.keys())\n",
    "print('unique classes: ',len(classes_names))"
   ]
  },
  {
   "cell_type": "markdown",
   "metadata": {},
   "source": [
    "## Dividing Training and Testing Data"
   ]
  },
  {
   "cell_type": "code",
   "execution_count": 10,
   "metadata": {},
   "outputs": [
    {
     "name": "stdout",
     "output_type": "stream",
     "text": [
      "750 250\n"
     ]
    }
   ],
   "source": [
    "''' test_data_size: must be same in both divide_data_train_test and train_test_splitting function(s) '''\n",
    "\n",
    "test_data_size = 0.25\n",
    "train_data, test_data = divide_data_train_test(data, test_data_size)\n",
    "print(len(train_data[classes_names[0]]), len(test_data[classes_names[0]]))"
   ]
  },
  {
   "cell_type": "markdown",
   "metadata": {},
   "source": [
    "## Creating Words Dictionary from training data for Selecting Features"
   ]
  },
  {
   "cell_type": "code",
   "execution_count": 11,
   "metadata": {},
   "outputs": [],
   "source": [
    "main_vocab = create_vocab_dict_from_train_data(train_data)"
   ]
  },
  {
   "cell_type": "code",
   "execution_count": 12,
   "metadata": {
    "scrolled": false
   },
   "outputs": [],
   "source": [
    "''' Taking top 'k' words as a features '''\n",
    "\n",
    "k = 1791\n",
    "df = pd.DataFrame({'words': list(main_vocab.keys()), 'frequency': list(main_vocab.values())})\n",
    "df = df.head(k)\n",
    "table_cols = list(df.words.values)"
   ]
  },
  {
   "cell_type": "code",
   "execution_count": 13,
   "metadata": {},
   "outputs": [
    {
     "data": {
      "image/png": "[encoded data removed]",
      "text/plain": [
       "<Figure size 720x360 with 1 Axes>"
      ]
     },
     "metadata": {},
     "output_type": "display_data"
    }
   ],
   "source": [
    "graph = df.head(100)\n",
    "plt.plot(graph['frequency'])\n",
    "plt.show()"
   ]
  },
  {
   "cell_type": "markdown",
   "metadata": {},
   "source": [
    "## Creating 2d array from loaded data"
   ]
  },
  {
   "cell_type": "code",
   "execution_count": 14,
   "metadata": {},
   "outputs": [],
   "source": [
    "_2darray = create_2d_array(data, table_cols)"
   ]
  },
  {
   "cell_type": "code",
   "execution_count": 15,
   "metadata": {},
   "outputs": [
    {
     "data": {
      "text/plain": [
       "(19997, 1792)"
      ]
     },
     "execution_count": 15,
     "metadata": {},
     "output_type": "execute_result"
    }
   ],
   "source": [
    "_2darray.shape"
   ]
  },
  {
   "cell_type": "code",
   "execution_count": 16,
   "metadata": {},
   "outputs": [
    {
     "data": {
      "text/plain": [
       "((19997, 1791), (19997,))"
      ]
     },
     "execution_count": 16,
     "metadata": {},
     "output_type": "execute_result"
    }
   ],
   "source": [
    "X = _2darray[:, :-1]#np.array(final_df.iloc[:,:-1].values, dtype='int')\n",
    "Y = _2darray[:, -1]#final_df['news_group_class_name'].values\n",
    "X.shape, Y.shape"
   ]
  },
  {
   "cell_type": "markdown",
   "metadata": {},
   "source": [
    "## Splitting data into training and testing part using sklearn in built function"
   ]
  },
  {
   "cell_type": "code",
   "execution_count": 17,
   "metadata": {},
   "outputs": [
    {
     "name": "stdout",
     "output_type": "stream",
     "text": [
      "(14997, 1791) (5000, 1791)\n"
     ]
    }
   ],
   "source": [
    "x_train, x_test, y_train, y_test = train_test_split(X, Y, test_size=test_data_size, random_state=1) \n",
    "print(x_train.shape, x_test.shape)"
   ]
  },
  {
   "cell_type": "markdown",
   "metadata": {},
   "source": [
    "## Implementing `Multinomial Naive Bayes` For Text Classification"
   ]
  },
  {
   "cell_type": "code",
   "execution_count": 73,
   "metadata": {},
   "outputs": [],
   "source": [
    "class MultinomialNaiveBayes:\n",
    "    \n",
    "    __map = {}\n",
    "    __alpha = None\n",
    "    \n",
    "    def __init__(self, alpha):\n",
    "        if alpha <= 0:\n",
    "            alpha=1\n",
    "        self.__alpha = alpha\n",
    "    \n",
    "    \n",
    "    def fit(self, x_train, y_train):\n",
    "        for class_type in set(y_train):\n",
    "            self.__map[class_type] = {}\n",
    "            xs = x_train[y_train == class_type]\n",
    "            self.__map[class_type]['total_count'] = xs.sum()\n",
    "            feature_counts = xs.sum(axis=0)\n",
    "            self.__map[class_type]['all_features'] = feature_counts   \n",
    "            \n",
    "        \n",
    "    def max_probability(self, x_row, classes, feature_len):\n",
    "        best_class = None\n",
    "        max_prob = -2**31\n",
    "        for each_class in  classes:\n",
    "            temp_prob = 0\n",
    "            \n",
    "            ''' Using numpy array for reducing time complexity '''\n",
    "            \n",
    "            required_features = self.__map[each_class]['all_features'][[x_row > 0]]\n",
    "            log_prob = np.log(required_features + self.__alpha) - mt.log(self.__map[each_class]['total_count'] + (self.__alpha * feature_len))\n",
    "            temp_prob = log_prob.sum()\n",
    "            if temp_prob > max_prob:\n",
    "                max_prob = temp_prob\n",
    "                best_class = each_class\n",
    "                \n",
    "        if best_class is not None:\n",
    "            return best_class\n",
    "        return -1\n",
    "            \n",
    "    \n",
    "    def predict(self, x_test):\n",
    "        y_pred = []\n",
    "        classes = self.__map.keys()\n",
    "        feature_len = len(x_test[0])\n",
    "        for x_row in x_test:\n",
    "            y_pred.append(self.max_probability(x_row, classes, feature_len))\n",
    "        return np.array(y_pred)\n",
    "    \n",
    "    \n",
    "    def __str__(self):\n",
    "        return('MultinomialNaiveBayes(alpha=%s)'%self.__alpha)"
   ]
  },
  {
   "cell_type": "markdown",
   "metadata": {},
   "source": [
    "## Classification Using Self Implemented MultinomialNaiveBayes"
   ]
  },
  {
   "cell_type": "code",
   "execution_count": 91,
   "metadata": {},
   "outputs": [
    {
     "name": "stdout",
     "output_type": "stream",
     "text": [
      "MultinomialNaiveBayes(alpha=123)\n"
     ]
    }
   ],
   "source": [
    "mnb = MultinomialNaiveBayes(alpha=123)\n",
    "print(mnb)\n",
    "mnb.fit(x_train, y_train)"
   ]
  },
  {
   "cell_type": "code",
   "execution_count": 92,
   "metadata": {},
   "outputs": [
    {
     "data": {
      "text/plain": [
       "array([ 3, 15, 17, ...,  5, 12, 19])"
      ]
     },
     "execution_count": 92,
     "metadata": {},
     "output_type": "execute_result"
    }
   ],
   "source": [
    "y_train_pred_me = mnb.predict(x_train)\n",
    "y_train_pred_me"
   ]
  },
  {
   "cell_type": "code",
   "execution_count": 93,
   "metadata": {},
   "outputs": [
    {
     "data": {
      "text/plain": [
       "array([14,  8,  7, ...,  7, 14,  7])"
      ]
     },
     "execution_count": 93,
     "metadata": {},
     "output_type": "execute_result"
    }
   ],
   "source": [
    "y_test_pred_me = mnb.predict(x_test)\n",
    "y_test_pred_me"
   ]
  },
  {
   "cell_type": "code",
   "execution_count": 94,
   "metadata": {},
   "outputs": [
    {
     "name": "stdout",
     "output_type": "stream",
     "text": [
      "0.9217176768687071\n",
      "0.915\n",
      "             precision    recall  f1-score   support\n",
      "\n",
      "          0       0.83      0.80      0.81       261\n",
      "          1       0.89      0.88      0.88       248\n",
      "          2       0.92      0.92      0.92       253\n",
      "          3       0.90      0.98      0.94       260\n",
      "          4       0.98      0.96      0.97       266\n",
      "          5       0.89      0.86      0.88       265\n",
      "          6       0.94      0.95      0.95       252\n",
      "          7       0.89      0.96      0.92       223\n",
      "          8       1.00      0.92      0.96       293\n",
      "          9       0.98      0.98      0.98       245\n",
      "         10       0.99      0.98      0.98       247\n",
      "         11       0.96      0.95      0.95       248\n",
      "         12       0.95      0.92      0.94       239\n",
      "         13       0.95      0.96      0.96       236\n",
      "         14       0.95      0.97      0.96       238\n",
      "         15       0.97      1.00      0.98       233\n",
      "         16       0.84      0.93      0.88       255\n",
      "         17       0.95      0.91      0.93       258\n",
      "         18       0.75      0.83      0.79       228\n",
      "         19       0.76      0.65      0.70       252\n",
      "\n",
      "avg / total       0.92      0.92      0.91      5000\n",
      "\n"
     ]
    }
   ],
   "source": [
    "print(accuracy_score(y_train, y_train_pred_me))\n",
    "print(accuracy_score(y_test, y_test_pred_me))\n",
    "print(classification_report(y_test, y_test_pred_me))"
   ]
  },
  {
   "cell_type": "markdown",
   "metadata": {},
   "source": [
    "###### ## Classification Using Inbuilt Sklearn MultinomialNB"
   ]
  },
  {
   "cell_type": "code",
   "execution_count": 49,
   "metadata": {},
   "outputs": [
    {
     "name": "stdout",
     "output_type": "stream",
     "text": [
      "MultinomialNB(alpha=1.0, class_prior=None, fit_prior=True)\n"
     ]
    }
   ],
   "source": [
    "clf = MultinomialNB()\n",
    "print((clf.fit(x_train, y_train)))"
   ]
  },
  {
   "cell_type": "code",
   "execution_count": 24,
   "metadata": {},
   "outputs": [],
   "source": [
    "y_train_pred_naive = clf.predict(x_train)"
   ]
  },
  {
   "cell_type": "code",
   "execution_count": 25,
   "metadata": {},
   "outputs": [
    {
     "data": {
      "text/plain": [
       "array([ 3, 15, 17, ...,  5, 12, 19])"
      ]
     },
     "execution_count": 25,
     "metadata": {},
     "output_type": "execute_result"
    }
   ],
   "source": [
    "y_train_pred_naive"
   ]
  },
  {
   "cell_type": "code",
   "execution_count": 26,
   "metadata": {},
   "outputs": [],
   "source": [
    "y_test_pred_naive = clf.predict(x_test)"
   ]
  },
  {
   "cell_type": "code",
   "execution_count": 27,
   "metadata": {},
   "outputs": [
    {
     "data": {
      "text/plain": [
       "array([14,  8,  7, ...,  4, 14,  7])"
      ]
     },
     "execution_count": 27,
     "metadata": {},
     "output_type": "execute_result"
    }
   ],
   "source": [
    "y_test_pred_naive"
   ]
  },
  {
   "cell_type": "code",
   "execution_count": 28,
   "metadata": {},
   "outputs": [
    {
     "name": "stdout",
     "output_type": "stream",
     "text": [
      "0.888044275521771\n",
      "0.8608\n"
     ]
    }
   ],
   "source": [
    "print(accuracy_score(y_train, y_train_pred_naive))\n",
    "print(accuracy_score(y_test, y_test_pred_naive))"
   ]
  },
  {
   "cell_type": "markdown",
   "metadata": {},
   "source": [
    "## Comparision Between Two"
   ]
  },
  {
   "cell_type": "code",
   "execution_count": 29,
   "metadata": {},
   "outputs": [
    {
     "data": {
      "image/png": "[encoded data removed]",
      "text/plain": [
       "<Figure size 720x360 with 1 Axes>"
      ]
     },
     "metadata": {},
     "output_type": "display_data"
    }
   ],
   "source": [
    "plt.scatter(y_test, y_test_pred_naive)\n",
    "plt.show()"
   ]
  },
  {
   "cell_type": "code",
   "execution_count": 30,
   "metadata": {},
   "outputs": [
    {
     "data": {
      "image/png": "[encoded data removed]",
      "text/plain": [
       "<Figure size 720x360 with 1 Axes>"
      ]
     },
     "metadata": {},
     "output_type": "display_data"
    }
   ],
   "source": [
    "plt.scatter(y_train, y_train_pred_me)\n",
    "plt.show()"
   ]
  },
  {
   "cell_type": "code",
   "execution_count": 95,
   "metadata": {},
   "outputs": [
    {
     "data": {
      "text/plain": [
       "<matplotlib.collections.PathCollection at 0x20733a5c6d8>"
      ]
     },
     "execution_count": 95,
     "metadata": {},
     "output_type": "execute_result"
    },
    {
     "data": {
      "image/png": "[encoded data removed]",
      "text/plain": [
       "<Figure size 720x360 with 1 Axes>"
      ]
     },
     "metadata": {},
     "output_type": "display_data"
    }
   ],
   "source": [
    "plt.scatter(y_test_pred_naive, y_test_pred_me)"
   ]
  }
 ],
 "metadata": {
  "kernelspec": {
   "display_name": "Python 3",
   "language": "python",
   "name": "python3"
  },
  "language_info": {
   "codemirror_mode": {
    "name": "ipython",
    "version": 3
   },
   "file_extension": ".py",
   "mimetype": "text/x-python",
   "name": "python",
   "nbconvert_exporter": "python",
   "pygments_lexer": "ipython3",
   "version": "3.6.5"
  }
 },
 "nbformat": 4,
 "nbformat_minor": 2
}
