{
 "cells": [
  {
   "cell_type": "code",
   "execution_count": 1,
   "metadata": {},
   "outputs": [],
   "source": [
    "from sklearn.naive_bayes import MultinomialNB\n",
    "from sklearn.metrics import confusion_matrix, classification_report, accuracy_score\n",
    "import numpy as np\n",
    "import pandas as pd\n",
    "import matplotlib.pyplot as plt\n",
    "import math as mt\n",
    "import os\n",
    "import re\n",
    "from nltk.stem import WordNetLemmatizer\n",
    "from nltk.corpus import stopwords\n",
    "from sklearn.model_selection import train_test_split"
   ]
  },
  {
   "cell_type": "code",
   "execution_count": 2,
   "metadata": {},
   "outputs": [],
   "source": [
    "# stemmer = WordNetLemmatizer()"
   ]
  },
  {
   "cell_type": "code",
   "execution_count": 3,
   "metadata": {},
   "outputs": [],
   "source": [
    "''' \"extract_frequency_wise\" function is used to extract the words along with there\n",
    "    frequency from the single data file\n",
    "    after removing all special characters, spaces, stopwords and every useless\n",
    "    chars\n",
    "    \n",
    "    Parameters\n",
    "    ----------\n",
    "    data: file from which to be extracted\n",
    "    \n",
    "    Returns\n",
    "    -------\n",
    "    vocab_dict: dicitionary of words with frequency\n",
    "'''\n",
    "\n",
    "def extract_frequency_wise(data):\n",
    "    documents = []\n",
    "    \n",
    "    ''' Removing Remove all the special characters, all single character,\n",
    "        starting with single character,\n",
    "        multiple spaces\n",
    "        with only one single space\n",
    "    '''\n",
    "    \n",
    "    for x in range(0, len(data)):  \n",
    "        document = re.sub(r'\\W', ' ', str(data[x]))\n",
    "        document = re.sub(r'\\s+[a-zA-Z]\\s+', ' ', document)\n",
    "        document = re.sub(r'^[a-zA-Z]\\s+', ' ', document) \n",
    "        document = re.sub(r'\\s+', ' ', document, flags=re.I)\n",
    "        document = document.lower()\n",
    "        document = document.split()\n",
    "#         document = [stemmer.lemmatize(word) for word in document]\n",
    "        documents.append(document)\n",
    "        \n",
    "    ''' Removing stopwords and numbers '''\n",
    "    \n",
    "    vocab = []\n",
    "    stop_words = stopwords.words('english')\n",
    "    \n",
    "    for i in range(len(documents)):\n",
    "        for j in range(len(documents[i])):\n",
    "            if not documents[i][j].isdigit() and documents[i][j] not in stop_words:\n",
    "                vocab.append(documents[i][j])\n",
    "    \n",
    "    ''' creating frequency list '''\n",
    "    \n",
    "    vocab_dict = {}\n",
    "    for w in vocab:\n",
    "        if w not in vocab_dict:\n",
    "            vocab_dict[w] = 1\n",
    "        else:\n",
    "            vocab_dict[w] += 1\n",
    "    \n",
    "    return vocab_dict"
   ]
  },
  {
   "cell_type": "code",
   "execution_count": 4,
   "metadata": {
    "scrolled": false
   },
   "outputs": [],
   "source": [
    "''' \"load_20news_group\" function is used to load the '20 news group' data into\n",
    "    python dictionary after removing special characters from each files with help of\n",
    "    \"extract_frequency_wise\" function \n",
    "    it stores the data into dictionary with folder name (or 20 news group classes) as a \"keys\"\n",
    "    and list of dictionary(of vocabulary) of each file from particular folder as \"values\"\n",
    "    \n",
    "    Parameters\n",
    "    ----------\n",
    "    data_per_group: integer, size of data(or files) to be load from each folder\n",
    "    \n",
    "    Results\n",
    "    -------\n",
    "    dictionary: dictionary of folder wise files vocabulary\n",
    "'''\n",
    "\n",
    "def load_20news_group(data_per_group = None):\n",
    "    dictionary = {}\n",
    "    path = os.getcwd() + '\\\\20_newsgroups' # folder path from current working directory\n",
    "    \n",
    "    \n",
    "    ''' Getting Folders Names '''\n",
    "    news_groups_name = os.listdir(path)\n",
    "        \n",
    "    ''' Getting Files Names From Each Folder'''\n",
    "    files_name_dict = {}\n",
    "    for folder_name in news_groups_name:\n",
    "        files_name_dict[folder_name] = os.listdir(path + '\\\\' + folder_name) #appending file names group by folders\n",
    "\n",
    "        \n",
    "    ''' creating frequency dictionary of words '''\n",
    "    for news_group in news_groups_name:\n",
    "        if data_per_group == None:\n",
    "            train_limit = len(files_name_dict[news_group])\n",
    "        else:\n",
    "            train_limit = data_per_group\n",
    "        dictionary[news_group] = []\n",
    "        for file_name in files_name_dict[news_group]:\n",
    "            if train_limit:\n",
    "                f = open(path + '\\\\' + news_group +'\\\\'+ file_name)\n",
    "                file_stream = f.readlines()\n",
    "                vocab = extract_frequency_wise(file_stream) # extracting words\n",
    "                dictionary[news_group].append(vocab)\n",
    "                f.close()\n",
    "            else:\n",
    "                break\n",
    "                \n",
    "            train_limit -= 1\n",
    "            \n",
    "    return dictionary"
   ]
  },
  {
   "cell_type": "code",
   "execution_count": 5,
   "metadata": {},
   "outputs": [],
   "source": [
    "''' \"divide_data_train_test\" function is used to divide to loaded data with help of function\n",
    "    \"load_20news_group\" into train and test data to further making the single vocabulary list\n",
    "    of train data to select the features\n",
    "    \n",
    "    Parameters\n",
    "    ----------\n",
    "    data: dictionary \n",
    "    test_size: integer, size of test data\n",
    "    \n",
    "    Returns\n",
    "    -------\n",
    "    train_data: train_data dictionary\n",
    "    test_data: test_data dictionary\n",
    "'''\n",
    "\n",
    "def divide_data_train_test(data, test_size = 0.25):\n",
    "    train_data = {}\n",
    "    test_data = {}\n",
    "    \n",
    "    for k in data:\n",
    "        test_len = int(len(data[k]) * (1-test_size))\n",
    "        train_data[k] = data[k][:test_len]\n",
    "        test_data[k]  = data[k][test_len:]\n",
    "        \n",
    "    return train_data, test_data"
   ]
  },
  {
   "cell_type": "code",
   "execution_count": 6,
   "metadata": {},
   "outputs": [],
   "source": [
    "''' \"create_vocab_dict_from_train_data\" function is used to make a single flat dictionary \n",
    "    from the train data for selecting features\n",
    "    \n",
    "    Parameters\n",
    "    ----------\n",
    "    train_data: dictionary\n",
    "    \n",
    "    Returns\n",
    "    -------\n",
    "    dictionary\n",
    "'''\n",
    "def create_vocab_dict_from_train_data(train_data):\n",
    "    main_vocab = {}\n",
    "    for news_grp in train_data:\n",
    "        for _dict in train_data[news_grp]:\n",
    "            for k in _dict:\n",
    "                if k not in main_vocab:\n",
    "                    main_vocab[k] = _dict[k]\n",
    "                else:\n",
    "                    main_vocab[k] += _dict[k]\n",
    "    return dict(sorted(main_vocab.items(), key = lambda x : x[1], reverse=True))"
   ]
  },
  {
   "cell_type": "code",
   "execution_count": 7,
   "metadata": {},
   "outputs": [],
   "source": [
    "''' \"create_2d_array\" function is used to making a 2d numpy array from the non-flat dictionary(or nested dict)\n",
    "    \n",
    "    Parameters\n",
    "    ----------\n",
    "    data: dictionary\n",
    "    table_cols: selected features(or words)\n",
    "    \n",
    "    Returns\n",
    "    -------\n",
    "    2d np array\n",
    "'''\n",
    "def create_2d_array(data, table_cols):\n",
    "    _2darray = []\n",
    "    for group_name in data.keys():\n",
    "        for _dict in data[group_name]:\n",
    "            curr_row = [0] * (len(table_cols) + 1) # (+ 1) because of news_group_class_name column\n",
    "            curr_row[-1] = group_name # news_group names\n",
    "            for i in range(len(table_cols)):\n",
    "                if table_cols[i] in _dict:\n",
    "                    curr_row[i] = _dict[table_cols[i]]\n",
    "            _2darray.append(curr_row)\n",
    "    return np.array(_2darray)"
   ]
  },
  {
   "cell_type": "markdown",
   "metadata": {},
   "source": [
    "# Loading Data from hard drive"
   ]
  },
  {
   "cell_type": "code",
   "execution_count": 8,
   "metadata": {},
   "outputs": [],
   "source": [
    "data = load_20news_group() # pass one integer args for size of data"
   ]
  },
  {
   "cell_type": "markdown",
   "metadata": {},
   "source": [
    "## Getting all 20 classes names"
   ]
  },
  {
   "cell_type": "code",
   "execution_count": 9,
   "metadata": {},
   "outputs": [
    {
     "name": "stdout",
     "output_type": "stream",
     "text": [
      "unique classes:  20\n"
     ]
    }
   ],
   "source": [
    "classes_names = list(data.keys())\n",
    "print('unique classes: ',len(classes_names))"
   ]
  },
  {
   "cell_type": "markdown",
   "metadata": {},
   "source": [
    "## Dividing Training and Testing Data"
   ]
  },
  {
   "cell_type": "code",
   "execution_count": 10,
   "metadata": {},
   "outputs": [
    {
     "name": "stdout",
     "output_type": "stream",
     "text": [
      "750 250\n"
     ]
    }
   ],
   "source": [
    "''' test_data_size: must be same in both divide_data_train_test and train_test_splitting function(s) '''\n",
    "\n",
    "test_data_size = 0.25\n",
    "train_data, test_data = divide_data_train_test(data, test_data_size)\n",
    "print(len(train_data[classes_names[0]]), len(test_data[classes_names[0]]))"
   ]
  },
  {
   "cell_type": "markdown",
   "metadata": {},
   "source": [
    "## Creating Words Dictionary from training data for Selecting Features"
   ]
  },
  {
   "cell_type": "code",
   "execution_count": 11,
   "metadata": {},
   "outputs": [],
   "source": [
    "main_vocab = create_vocab_dict_from_train_data(train_data)"
   ]
  },
  {
   "cell_type": "code",
   "execution_count": 78,
   "metadata": {
    "scrolled": false
   },
   "outputs": [],
   "source": [
    "''' Taking top 'k' words as a features '''\n",
    "\n",
    "k = 2500\n",
    "df = pd.DataFrame({'words': list(main_vocab.keys()), 'frequency': list(main_vocab.values())})\n",
    "df = df.head(k)\n",
    "table_cols = list(df.words.values)"
   ]
  },
  {
   "cell_type": "code",
   "execution_count": 79,
   "metadata": {},
   "outputs": [
    {
     "data": {
      "image/png": "[encoded data removed]",
      "text/plain": [
       "<Figure size 432x288 with 1 Axes>"
      ]
     },
     "metadata": {},
     "output_type": "display_data"
    }
   ],
   "source": [
    "graph = df.head(100)\n",
    "plt.plot(graph['frequency'])\n",
    "plt.show()"
   ]
  },
  {
   "cell_type": "markdown",
   "metadata": {},
   "source": [
    "## Creating 2d array from loaded data and converting into DataFrame"
   ]
  },
  {
   "cell_type": "code",
   "execution_count": 80,
   "metadata": {},
   "outputs": [],
   "source": [
    "_2darray = create_2d_array(data, table_cols)"
   ]
  },
  {
   "cell_type": "code",
   "execution_count": 81,
   "metadata": {},
   "outputs": [],
   "source": [
    "table_cols.append('news_group_class_name')\n",
    "final_df = pd.DataFrame(_2darray, columns=table_cols)\n",
    "table_cols.__delitem__(len(table_cols)-1)"
   ]
  },
  {
   "cell_type": "markdown",
   "metadata": {},
   "source": [
    "## Converting String value of classes into integer"
   ]
  },
  {
   "cell_type": "code",
   "execution_count": 82,
   "metadata": {},
   "outputs": [],
   "source": [
    "class_conv ={}\n",
    "for i in range(len(classes_names)):\n",
    "    class_conv[classes_names[i]] = i\n",
    "final_df['news_group_class_name'].replace(class_conv, inplace=True)"
   ]
  },
  {
   "cell_type": "code",
   "execution_count": 83,
   "metadata": {},
   "outputs": [],
   "source": [
    "X = np.array(final_df.iloc[:,:-1].values, dtype='int')\n",
    "Y = final_df['news_group_class_name'].values\n",
    "Y=Y.astype('int')"
   ]
  },
  {
   "cell_type": "markdown",
   "metadata": {},
   "source": [
    "## Splitting data into training and testing part using sklearn in built function"
   ]
  },
  {
   "cell_type": "code",
   "execution_count": 84,
   "metadata": {},
   "outputs": [
    {
     "name": "stdout",
     "output_type": "stream",
     "text": [
      "(14997, 2500) (5000, 2500)\n"
     ]
    }
   ],
   "source": [
    "x_train, x_test, y_train, y_test = train_test_split(X, Y, test_size=test_data_size, random_state=1) \n",
    "print(x_train.shape, x_test.shape)"
   ]
  },
  {
   "cell_type": "markdown",
   "metadata": {},
   "source": [
    "## Implementing `Multinomial Naive Bayes` For Text Classification"
   ]
  },
  {
   "cell_type": "code",
   "execution_count": 85,
   "metadata": {},
   "outputs": [],
   "source": [
    "class MultinomialNaiveBayes:\n",
    "    \n",
    "    __map = {}\n",
    "    __alpha = None\n",
    "    \n",
    "    def fit(self, x_train, y_train, alpha=1.0):\n",
    "        if alpha <= 0:\n",
    "            alpha=1\n",
    "        self.__alpha = alpha\n",
    "        for class_type in set(y_train):\n",
    "            self.__map[class_type] = {}\n",
    "            xs = x_train[y_train == class_type]\n",
    "            self.__map[class_type]['total_count'] = xs.sum()\n",
    "            feature_counts = xs.sum(axis=0)\n",
    "            self.__map[class_type]['all_features'] = feature_counts\n",
    "                \n",
    "                \n",
    "    def max_probability(self, x_row, classes, feature_len):\n",
    "        best_class = None\n",
    "        max_prob = -2**31\n",
    "        for each_class in  classes:\n",
    "            temp_prob = 0\n",
    "            \n",
    "            ''' Using numpy array for reducing time complexity '''\n",
    "            \n",
    "            required_features = self.__map[each_class]['all_features'][[x_row > 0]] \n",
    "            log_prob = np.log(required_features + self.__alpha) - mt.log(self.__map[each_class]['total_count'] + (self.__alpha * feature_len))\n",
    "            temp_prob = log_prob.sum()\n",
    "            if temp_prob > max_prob:\n",
    "                max_prob = temp_prob\n",
    "                best_class = each_class\n",
    "        if best_class is not None:\n",
    "            return best_class\n",
    "        return -1\n",
    "            \n",
    "    \n",
    "    def predict(self, x_test):\n",
    "        y_pred = []\n",
    "        classes = self.__map.keys()\n",
    "        feature_len = len(x_test[0])\n",
    "        for x_row in x_test:\n",
    "            y_pred.append(self.max_probability(x_row, classes, feature_len))\n",
    "        return np.array(y_pred)"
   ]
  },
  {
   "cell_type": "markdown",
   "metadata": {},
   "source": [
    "## Classification Using Self Implemented MultinomialNaiveBayes"
   ]
  },
  {
   "cell_type": "code",
   "execution_count": 86,
   "metadata": {},
   "outputs": [],
   "source": [
    "mnb = MultinomialNaiveBayes()\n",
    "d = mnb.fit(x_train, y_train, alpha=2.5)"
   ]
  },
  {
   "cell_type": "code",
   "execution_count": 87,
   "metadata": {},
   "outputs": [
    {
     "data": {
      "text/plain": [
       "array([ 3, 15, 17, ...,  5, 12,  0])"
      ]
     },
     "execution_count": 87,
     "metadata": {},
     "output_type": "execute_result"
    }
   ],
   "source": [
    "y_train_pred_me = mnb.predict(x_train)\n",
    "y_train_pred_me"
   ]
  },
  {
   "cell_type": "code",
   "execution_count": 88,
   "metadata": {},
   "outputs": [
    {
     "data": {
      "text/plain": [
       "array([14,  8,  7, ...,  4, 14,  7])"
      ]
     },
     "execution_count": 88,
     "metadata": {},
     "output_type": "execute_result"
    }
   ],
   "source": [
    "y_test_pred_me = mnb.predict(x_test)\n",
    "y_test_pred_me"
   ]
  },
  {
   "cell_type": "code",
   "execution_count": 89,
   "metadata": {},
   "outputs": [
    {
     "name": "stdout",
     "output_type": "stream",
     "text": [
      "0.9046475961859038\n",
      "0.8816\n"
     ]
    }
   ],
   "source": [
    "print(accuracy_score(y_train, y_train_pred_me))\n",
    "print(accuracy_score(y_test, y_test_pred_me))"
   ]
  },
  {
   "cell_type": "markdown",
   "metadata": {},
   "source": [
    "\n",
    "## Classification Using Inbuilt Sklearn MultinomialNB"
   ]
  },
  {
   "cell_type": "code",
   "execution_count": 90,
   "metadata": {},
   "outputs": [
    {
     "data": {
      "text/plain": [
       "MultinomialNB(alpha=1.0, class_prior=None, fit_prior=True)"
      ]
     },
     "execution_count": 90,
     "metadata": {},
     "output_type": "execute_result"
    }
   ],
   "source": [
    "clf = MultinomialNB()\n",
    "clf.fit(x_train, y_train)"
   ]
  },
  {
   "cell_type": "code",
   "execution_count": 91,
   "metadata": {},
   "outputs": [],
   "source": [
    "y_train_pred_naive = clf.predict(x_train)"
   ]
  },
  {
   "cell_type": "code",
   "execution_count": 92,
   "metadata": {},
   "outputs": [
    {
     "data": {
      "text/plain": [
       "array([ 3, 15, 17, ...,  5, 12, 19])"
      ]
     },
     "execution_count": 92,
     "metadata": {},
     "output_type": "execute_result"
    }
   ],
   "source": [
    "y_train_pred_naive"
   ]
  },
  {
   "cell_type": "code",
   "execution_count": 93,
   "metadata": {},
   "outputs": [],
   "source": [
    "y_test_pred_naive = clf.predict(x_test)"
   ]
  },
  {
   "cell_type": "code",
   "execution_count": 94,
   "metadata": {},
   "outputs": [
    {
     "data": {
      "text/plain": [
       "array([14,  8,  7, ...,  4, 14,  7])"
      ]
     },
     "execution_count": 94,
     "metadata": {},
     "output_type": "execute_result"
    }
   ],
   "source": [
    "y_test_pred_naive"
   ]
  },
  {
   "cell_type": "code",
   "execution_count": 95,
   "metadata": {},
   "outputs": [
    {
     "name": "stdout",
     "output_type": "stream",
     "text": [
      "0.892711875708475\n",
      "0.8652\n"
     ]
    }
   ],
   "source": [
    "print(accuracy_score(y_train, y_train_pred_naive))\n",
    "print(accuracy_score(y_test, y_test_pred_naive))"
   ]
  },
  {
   "cell_type": "markdown",
   "metadata": {},
   "source": [
    "## Comparision Between Two"
   ]
  },
  {
   "cell_type": "code",
   "execution_count": 96,
   "metadata": {},
   "outputs": [
    {
     "data": {
      "image/png": "[encoded data removed]",
      "text/plain": [
       "<Figure size 432x288 with 1 Axes>"
      ]
     },
     "metadata": {},
     "output_type": "display_data"
    }
   ],
   "source": [
    "plt.scatter(y_test, y_test_pred_naive)\n",
    "plt.show()"
   ]
  },
  {
   "cell_type": "code",
   "execution_count": 97,
   "metadata": {},
   "outputs": [
    {
     "data": {
      "image/png": "[encoded data removed]",
      "text/plain": [
       "<Figure size 432x288 with 1 Axes>"
      ]
     },
     "metadata": {},
     "output_type": "display_data"
    }
   ],
   "source": [
    "plt.scatter(y_train, y_train_pred_me)\n",
    "plt.show()"
   ]
  },
  {
   "cell_type": "code",
   "execution_count": 98,
   "metadata": {},
   "outputs": [
    {
     "data": {
      "text/plain": [
       "<matplotlib.collections.PathCollection at 0x1f7dd452c18>"
      ]
     },
     "execution_count": 98,
     "metadata": {},
     "output_type": "execute_result"
    },
    {
     "data": {
      "image/png": "[encoded data removed]",
      "text/plain": [
       "<Figure size 432x288 with 1 Axes>"
      ]
     },
     "metadata": {},
     "output_type": "display_data"
    }
   ],
   "source": [
    "plt.scatter(y_test_pred_naive, y_test_pred_me)"
   ]
  }
 ],
 "metadata": {
  "kernelspec": {
   "display_name": "Python 3",
   "language": "python",
   "name": "python3"
  },
  "language_info": {
   "codemirror_mode": {
    "name": "ipython",
    "version": 3
   },
   "file_extension": ".py",
   "mimetype": "text/x-python",
   "name": "python",
   "nbconvert_exporter": "python",
   "pygments_lexer": "ipython3",
   "version": "3.6.5"
  }
 },
 "nbformat": 4,
 "nbformat_minor": 2
}
